{
 "cells": [
  {
   "cell_type": "code",
   "execution_count": 2,
   "id": "ae439479-50f2-4701-a46b-7a805131c2dc",
   "metadata": {},
   "outputs": [],
   "source": [
    "import numpy as np\n",
    "import matplotlib.pyplot as plt\n",
    "import pandas as pd\n",
    "import seaborn as sns\n",
    "\n",
    "import warnings\n",
    "warnings.filterwarnings('ignore')"
   ]
  },
  {
   "cell_type": "markdown",
   "id": "869eec97-3da3-41d0-8a15-a892aaec0c8d",
   "metadata": {},
   "source": [
    "## Data Preprocessing"
   ]
  },
  {
   "cell_type": "code",
   "execution_count": 4,
   "id": "3da8a160-45d0-416d-9328-b1d3b1ef2a85",
   "metadata": {},
   "outputs": [],
   "source": [
    "df=pd.read_csv(r'C:\\Users\\lenovo\\Downloads\\Fraud.csv')"
   ]
  },
  {
   "cell_type": "code",
   "execution_count": 5,
   "id": "7a3e8b13-4eb9-4488-893f-3150cbac4867",
   "metadata": {},
   "outputs": [
    {
     "data": {
      "text/html": [
       "<div>\n",
       "<style scoped>\n",
       "    .dataframe tbody tr th:only-of-type {\n",
       "        vertical-align: middle;\n",
       "    }\n",
       "\n",
       "    .dataframe tbody tr th {\n",
       "        vertical-align: top;\n",
       "    }\n",
       "\n",
       "    .dataframe thead th {\n",
       "        text-align: right;\n",
       "    }\n",
       "</style>\n",
       "<table border=\"1\" class=\"dataframe\">\n",
       "  <thead>\n",
       "    <tr style=\"text-align: right;\">\n",
       "      <th></th>\n",
       "      <th>step</th>\n",
       "      <th>type</th>\n",
       "      <th>amount</th>\n",
       "      <th>nameOrig</th>\n",
       "      <th>oldbalanceOrg</th>\n",
       "      <th>newbalanceOrig</th>\n",
       "      <th>nameDest</th>\n",
       "      <th>oldbalanceDest</th>\n",
       "      <th>newbalanceDest</th>\n",
       "      <th>isFraud</th>\n",
       "      <th>isFlaggedFraud</th>\n",
       "    </tr>\n",
       "  </thead>\n",
       "  <tbody>\n",
       "    <tr>\n",
       "      <th>0</th>\n",
       "      <td>1</td>\n",
       "      <td>PAYMENT</td>\n",
       "      <td>9839.64</td>\n",
       "      <td>C1231006815</td>\n",
       "      <td>170136.0</td>\n",
       "      <td>160296.36</td>\n",
       "      <td>M1979787155</td>\n",
       "      <td>0.0</td>\n",
       "      <td>0.0</td>\n",
       "      <td>0</td>\n",
       "      <td>0</td>\n",
       "    </tr>\n",
       "    <tr>\n",
       "      <th>1</th>\n",
       "      <td>1</td>\n",
       "      <td>PAYMENT</td>\n",
       "      <td>1864.28</td>\n",
       "      <td>C1666544295</td>\n",
       "      <td>21249.0</td>\n",
       "      <td>19384.72</td>\n",
       "      <td>M2044282225</td>\n",
       "      <td>0.0</td>\n",
       "      <td>0.0</td>\n",
       "      <td>0</td>\n",
       "      <td>0</td>\n",
       "    </tr>\n",
       "    <tr>\n",
       "      <th>2</th>\n",
       "      <td>1</td>\n",
       "      <td>TRANSFER</td>\n",
       "      <td>181.00</td>\n",
       "      <td>C1305486145</td>\n",
       "      <td>181.0</td>\n",
       "      <td>0.00</td>\n",
       "      <td>C553264065</td>\n",
       "      <td>0.0</td>\n",
       "      <td>0.0</td>\n",
       "      <td>1</td>\n",
       "      <td>0</td>\n",
       "    </tr>\n",
       "    <tr>\n",
       "      <th>3</th>\n",
       "      <td>1</td>\n",
       "      <td>CASH_OUT</td>\n",
       "      <td>181.00</td>\n",
       "      <td>C840083671</td>\n",
       "      <td>181.0</td>\n",
       "      <td>0.00</td>\n",
       "      <td>C38997010</td>\n",
       "      <td>21182.0</td>\n",
       "      <td>0.0</td>\n",
       "      <td>1</td>\n",
       "      <td>0</td>\n",
       "    </tr>\n",
       "    <tr>\n",
       "      <th>4</th>\n",
       "      <td>1</td>\n",
       "      <td>PAYMENT</td>\n",
       "      <td>11668.14</td>\n",
       "      <td>C2048537720</td>\n",
       "      <td>41554.0</td>\n",
       "      <td>29885.86</td>\n",
       "      <td>M1230701703</td>\n",
       "      <td>0.0</td>\n",
       "      <td>0.0</td>\n",
       "      <td>0</td>\n",
       "      <td>0</td>\n",
       "    </tr>\n",
       "  </tbody>\n",
       "</table>\n",
       "</div>"
      ],
      "text/plain": [
       "   step      type    amount     nameOrig  oldbalanceOrg  newbalanceOrig  \\\n",
       "0     1   PAYMENT   9839.64  C1231006815       170136.0       160296.36   \n",
       "1     1   PAYMENT   1864.28  C1666544295        21249.0        19384.72   \n",
       "2     1  TRANSFER    181.00  C1305486145          181.0            0.00   \n",
       "3     1  CASH_OUT    181.00   C840083671          181.0            0.00   \n",
       "4     1   PAYMENT  11668.14  C2048537720        41554.0        29885.86   \n",
       "\n",
       "      nameDest  oldbalanceDest  newbalanceDest  isFraud  isFlaggedFraud  \n",
       "0  M1979787155             0.0             0.0        0               0  \n",
       "1  M2044282225             0.0             0.0        0               0  \n",
       "2   C553264065             0.0             0.0        1               0  \n",
       "3    C38997010         21182.0             0.0        1               0  \n",
       "4  M1230701703             0.0             0.0        0               0  "
      ]
     },
     "execution_count": 5,
     "metadata": {},
     "output_type": "execute_result"
    }
   ],
   "source": [
    "df.head()"
   ]
  },
  {
   "cell_type": "code",
   "execution_count": 6,
   "id": "0604f933-81ba-458f-8a4a-6d9b210927c0",
   "metadata": {},
   "outputs": [
    {
     "data": {
      "text/html": [
       "<div>\n",
       "<style scoped>\n",
       "    .dataframe tbody tr th:only-of-type {\n",
       "        vertical-align: middle;\n",
       "    }\n",
       "\n",
       "    .dataframe tbody tr th {\n",
       "        vertical-align: top;\n",
       "    }\n",
       "\n",
       "    .dataframe thead th {\n",
       "        text-align: right;\n",
       "    }\n",
       "</style>\n",
       "<table border=\"1\" class=\"dataframe\">\n",
       "  <thead>\n",
       "    <tr style=\"text-align: right;\">\n",
       "      <th></th>\n",
       "      <th>step</th>\n",
       "      <th>type</th>\n",
       "      <th>amount</th>\n",
       "      <th>nameOrig</th>\n",
       "      <th>oldbalanceOrg</th>\n",
       "      <th>newbalanceOrig</th>\n",
       "      <th>nameDest</th>\n",
       "      <th>oldbalanceDest</th>\n",
       "      <th>newbalanceDest</th>\n",
       "      <th>isFraud</th>\n",
       "      <th>isFlaggedFraud</th>\n",
       "    </tr>\n",
       "  </thead>\n",
       "  <tbody>\n",
       "    <tr>\n",
       "      <th>6362615</th>\n",
       "      <td>743</td>\n",
       "      <td>CASH_OUT</td>\n",
       "      <td>339682.13</td>\n",
       "      <td>C786484425</td>\n",
       "      <td>339682.13</td>\n",
       "      <td>0.0</td>\n",
       "      <td>C776919290</td>\n",
       "      <td>0.00</td>\n",
       "      <td>339682.13</td>\n",
       "      <td>1</td>\n",
       "      <td>0</td>\n",
       "    </tr>\n",
       "    <tr>\n",
       "      <th>6362616</th>\n",
       "      <td>743</td>\n",
       "      <td>TRANSFER</td>\n",
       "      <td>6311409.28</td>\n",
       "      <td>C1529008245</td>\n",
       "      <td>6311409.28</td>\n",
       "      <td>0.0</td>\n",
       "      <td>C1881841831</td>\n",
       "      <td>0.00</td>\n",
       "      <td>0.00</td>\n",
       "      <td>1</td>\n",
       "      <td>0</td>\n",
       "    </tr>\n",
       "    <tr>\n",
       "      <th>6362617</th>\n",
       "      <td>743</td>\n",
       "      <td>CASH_OUT</td>\n",
       "      <td>6311409.28</td>\n",
       "      <td>C1162922333</td>\n",
       "      <td>6311409.28</td>\n",
       "      <td>0.0</td>\n",
       "      <td>C1365125890</td>\n",
       "      <td>68488.84</td>\n",
       "      <td>6379898.11</td>\n",
       "      <td>1</td>\n",
       "      <td>0</td>\n",
       "    </tr>\n",
       "    <tr>\n",
       "      <th>6362618</th>\n",
       "      <td>743</td>\n",
       "      <td>TRANSFER</td>\n",
       "      <td>850002.52</td>\n",
       "      <td>C1685995037</td>\n",
       "      <td>850002.52</td>\n",
       "      <td>0.0</td>\n",
       "      <td>C2080388513</td>\n",
       "      <td>0.00</td>\n",
       "      <td>0.00</td>\n",
       "      <td>1</td>\n",
       "      <td>0</td>\n",
       "    </tr>\n",
       "    <tr>\n",
       "      <th>6362619</th>\n",
       "      <td>743</td>\n",
       "      <td>CASH_OUT</td>\n",
       "      <td>850002.52</td>\n",
       "      <td>C1280323807</td>\n",
       "      <td>850002.52</td>\n",
       "      <td>0.0</td>\n",
       "      <td>C873221189</td>\n",
       "      <td>6510099.11</td>\n",
       "      <td>7360101.63</td>\n",
       "      <td>1</td>\n",
       "      <td>0</td>\n",
       "    </tr>\n",
       "  </tbody>\n",
       "</table>\n",
       "</div>"
      ],
      "text/plain": [
       "         step      type      amount     nameOrig  oldbalanceOrg  \\\n",
       "6362615   743  CASH_OUT   339682.13   C786484425      339682.13   \n",
       "6362616   743  TRANSFER  6311409.28  C1529008245     6311409.28   \n",
       "6362617   743  CASH_OUT  6311409.28  C1162922333     6311409.28   \n",
       "6362618   743  TRANSFER   850002.52  C1685995037      850002.52   \n",
       "6362619   743  CASH_OUT   850002.52  C1280323807      850002.52   \n",
       "\n",
       "         newbalanceOrig     nameDest  oldbalanceDest  newbalanceDest  isFraud  \\\n",
       "6362615             0.0   C776919290            0.00       339682.13        1   \n",
       "6362616             0.0  C1881841831            0.00            0.00        1   \n",
       "6362617             0.0  C1365125890        68488.84      6379898.11        1   \n",
       "6362618             0.0  C2080388513            0.00            0.00        1   \n",
       "6362619             0.0   C873221189      6510099.11      7360101.63        1   \n",
       "\n",
       "         isFlaggedFraud  \n",
       "6362615               0  \n",
       "6362616               0  \n",
       "6362617               0  \n",
       "6362618               0  \n",
       "6362619               0  "
      ]
     },
     "execution_count": 6,
     "metadata": {},
     "output_type": "execute_result"
    }
   ],
   "source": [
    "df.tail()"
   ]
  },
  {
   "cell_type": "code",
   "execution_count": 7,
   "id": "e6d1d0be-489a-4119-87d5-cc9d7f334bc6",
   "metadata": {},
   "outputs": [
    {
     "data": {
      "text/plain": [
       "array([0, 1], dtype=int64)"
      ]
     },
     "execution_count": 7,
     "metadata": {},
     "output_type": "execute_result"
    }
   ],
   "source": [
    "df['isFlaggedFraud'].unique()"
   ]
  },
  {
   "cell_type": "code",
   "execution_count": 8,
   "id": "b83f9f66-d922-45ec-9ebf-67a1a158d189",
   "metadata": {},
   "outputs": [
    {
     "data": {
      "text/plain": [
       "nameOrig\n",
       "C1902386530    3\n",
       "C363736674     3\n",
       "C545315117     3\n",
       "C724452879     3\n",
       "C1784010646    3\n",
       "              ..\n",
       "C98968405      1\n",
       "C720209255     1\n",
       "C1567523029    1\n",
       "C644777639     1\n",
       "C1280323807    1\n",
       "Name: count, Length: 6353307, dtype: int64"
      ]
     },
     "execution_count": 8,
     "metadata": {},
     "output_type": "execute_result"
    }
   ],
   "source": [
    "df['nameOrig'].value_counts()"
   ]
  },
  {
   "cell_type": "code",
   "execution_count": 9,
   "id": "a8fa1463-9431-451d-b719-1955a90eff13",
   "metadata": {},
   "outputs": [
    {
     "data": {
      "text/plain": [
       "array([0, 1], dtype=int64)"
      ]
     },
     "execution_count": 9,
     "metadata": {},
     "output_type": "execute_result"
    }
   ],
   "source": [
    "df['isFraud'].unique()"
   ]
  },
  {
   "cell_type": "code",
   "execution_count": 10,
   "id": "9f328882-a19c-44b8-b441-6a9ed38a2c67",
   "metadata": {},
   "outputs": [
    {
     "data": {
      "text/html": [
       "<div>\n",
       "<style scoped>\n",
       "    .dataframe tbody tr th:only-of-type {\n",
       "        vertical-align: middle;\n",
       "    }\n",
       "\n",
       "    .dataframe tbody tr th {\n",
       "        vertical-align: top;\n",
       "    }\n",
       "\n",
       "    .dataframe thead th {\n",
       "        text-align: right;\n",
       "    }\n",
       "</style>\n",
       "<table border=\"1\" class=\"dataframe\">\n",
       "  <thead>\n",
       "    <tr style=\"text-align: right;\">\n",
       "      <th></th>\n",
       "      <th>step</th>\n",
       "      <th>type</th>\n",
       "      <th>amount</th>\n",
       "      <th>nameOrig</th>\n",
       "      <th>oldbalanceOrg</th>\n",
       "      <th>newbalanceOrig</th>\n",
       "      <th>nameDest</th>\n",
       "      <th>oldbalanceDest</th>\n",
       "      <th>newbalanceDest</th>\n",
       "      <th>isFraud</th>\n",
       "      <th>isFlaggedFraud</th>\n",
       "    </tr>\n",
       "  </thead>\n",
       "  <tbody>\n",
       "    <tr>\n",
       "      <th>2736446</th>\n",
       "      <td>212</td>\n",
       "      <td>TRANSFER</td>\n",
       "      <td>4953893.08</td>\n",
       "      <td>C728984460</td>\n",
       "      <td>4953893.08</td>\n",
       "      <td>4953893.08</td>\n",
       "      <td>C639921569</td>\n",
       "      <td>0.0</td>\n",
       "      <td>0.0</td>\n",
       "      <td>1</td>\n",
       "      <td>1</td>\n",
       "    </tr>\n",
       "    <tr>\n",
       "      <th>3247297</th>\n",
       "      <td>250</td>\n",
       "      <td>TRANSFER</td>\n",
       "      <td>1343002.08</td>\n",
       "      <td>C1100582606</td>\n",
       "      <td>1343002.08</td>\n",
       "      <td>1343002.08</td>\n",
       "      <td>C1147517658</td>\n",
       "      <td>0.0</td>\n",
       "      <td>0.0</td>\n",
       "      <td>1</td>\n",
       "      <td>1</td>\n",
       "    </tr>\n",
       "    <tr>\n",
       "      <th>3760288</th>\n",
       "      <td>279</td>\n",
       "      <td>TRANSFER</td>\n",
       "      <td>536624.41</td>\n",
       "      <td>C1035541766</td>\n",
       "      <td>536624.41</td>\n",
       "      <td>536624.41</td>\n",
       "      <td>C1100697970</td>\n",
       "      <td>0.0</td>\n",
       "      <td>0.0</td>\n",
       "      <td>1</td>\n",
       "      <td>1</td>\n",
       "    </tr>\n",
       "    <tr>\n",
       "      <th>5563713</th>\n",
       "      <td>387</td>\n",
       "      <td>TRANSFER</td>\n",
       "      <td>4892193.09</td>\n",
       "      <td>C908544136</td>\n",
       "      <td>4892193.09</td>\n",
       "      <td>4892193.09</td>\n",
       "      <td>C891140444</td>\n",
       "      <td>0.0</td>\n",
       "      <td>0.0</td>\n",
       "      <td>1</td>\n",
       "      <td>1</td>\n",
       "    </tr>\n",
       "    <tr>\n",
       "      <th>5996407</th>\n",
       "      <td>425</td>\n",
       "      <td>TRANSFER</td>\n",
       "      <td>10000000.00</td>\n",
       "      <td>C689608084</td>\n",
       "      <td>19585040.37</td>\n",
       "      <td>19585040.37</td>\n",
       "      <td>C1392803603</td>\n",
       "      <td>0.0</td>\n",
       "      <td>0.0</td>\n",
       "      <td>1</td>\n",
       "      <td>1</td>\n",
       "    </tr>\n",
       "    <tr>\n",
       "      <th>5996409</th>\n",
       "      <td>425</td>\n",
       "      <td>TRANSFER</td>\n",
       "      <td>9585040.37</td>\n",
       "      <td>C452586515</td>\n",
       "      <td>19585040.37</td>\n",
       "      <td>19585040.37</td>\n",
       "      <td>C1109166882</td>\n",
       "      <td>0.0</td>\n",
       "      <td>0.0</td>\n",
       "      <td>1</td>\n",
       "      <td>1</td>\n",
       "    </tr>\n",
       "    <tr>\n",
       "      <th>6168499</th>\n",
       "      <td>554</td>\n",
       "      <td>TRANSFER</td>\n",
       "      <td>3576297.10</td>\n",
       "      <td>C193696150</td>\n",
       "      <td>3576297.10</td>\n",
       "      <td>3576297.10</td>\n",
       "      <td>C484597480</td>\n",
       "      <td>0.0</td>\n",
       "      <td>0.0</td>\n",
       "      <td>1</td>\n",
       "      <td>1</td>\n",
       "    </tr>\n",
       "    <tr>\n",
       "      <th>6205439</th>\n",
       "      <td>586</td>\n",
       "      <td>TRANSFER</td>\n",
       "      <td>353874.22</td>\n",
       "      <td>C1684585475</td>\n",
       "      <td>353874.22</td>\n",
       "      <td>353874.22</td>\n",
       "      <td>C1770418982</td>\n",
       "      <td>0.0</td>\n",
       "      <td>0.0</td>\n",
       "      <td>1</td>\n",
       "      <td>1</td>\n",
       "    </tr>\n",
       "    <tr>\n",
       "      <th>6266413</th>\n",
       "      <td>617</td>\n",
       "      <td>TRANSFER</td>\n",
       "      <td>2542664.27</td>\n",
       "      <td>C786455622</td>\n",
       "      <td>2542664.27</td>\n",
       "      <td>2542664.27</td>\n",
       "      <td>C661958277</td>\n",
       "      <td>0.0</td>\n",
       "      <td>0.0</td>\n",
       "      <td>1</td>\n",
       "      <td>1</td>\n",
       "    </tr>\n",
       "    <tr>\n",
       "      <th>6281482</th>\n",
       "      <td>646</td>\n",
       "      <td>TRANSFER</td>\n",
       "      <td>10000000.00</td>\n",
       "      <td>C19004745</td>\n",
       "      <td>10399045.08</td>\n",
       "      <td>10399045.08</td>\n",
       "      <td>C1806199534</td>\n",
       "      <td>0.0</td>\n",
       "      <td>0.0</td>\n",
       "      <td>1</td>\n",
       "      <td>1</td>\n",
       "    </tr>\n",
       "    <tr>\n",
       "      <th>6281484</th>\n",
       "      <td>646</td>\n",
       "      <td>TRANSFER</td>\n",
       "      <td>399045.08</td>\n",
       "      <td>C724693370</td>\n",
       "      <td>10399045.08</td>\n",
       "      <td>10399045.08</td>\n",
       "      <td>C1909486199</td>\n",
       "      <td>0.0</td>\n",
       "      <td>0.0</td>\n",
       "      <td>1</td>\n",
       "      <td>1</td>\n",
       "    </tr>\n",
       "    <tr>\n",
       "      <th>6296014</th>\n",
       "      <td>671</td>\n",
       "      <td>TRANSFER</td>\n",
       "      <td>3441041.46</td>\n",
       "      <td>C917414431</td>\n",
       "      <td>3441041.46</td>\n",
       "      <td>3441041.46</td>\n",
       "      <td>C1082139865</td>\n",
       "      <td>0.0</td>\n",
       "      <td>0.0</td>\n",
       "      <td>1</td>\n",
       "      <td>1</td>\n",
       "    </tr>\n",
       "    <tr>\n",
       "      <th>6351225</th>\n",
       "      <td>702</td>\n",
       "      <td>TRANSFER</td>\n",
       "      <td>3171085.59</td>\n",
       "      <td>C1892216157</td>\n",
       "      <td>3171085.59</td>\n",
       "      <td>3171085.59</td>\n",
       "      <td>C1308068787</td>\n",
       "      <td>0.0</td>\n",
       "      <td>0.0</td>\n",
       "      <td>1</td>\n",
       "      <td>1</td>\n",
       "    </tr>\n",
       "    <tr>\n",
       "      <th>6362460</th>\n",
       "      <td>730</td>\n",
       "      <td>TRANSFER</td>\n",
       "      <td>10000000.00</td>\n",
       "      <td>C2140038573</td>\n",
       "      <td>17316255.05</td>\n",
       "      <td>17316255.05</td>\n",
       "      <td>C1395467927</td>\n",
       "      <td>0.0</td>\n",
       "      <td>0.0</td>\n",
       "      <td>1</td>\n",
       "      <td>1</td>\n",
       "    </tr>\n",
       "    <tr>\n",
       "      <th>6362462</th>\n",
       "      <td>730</td>\n",
       "      <td>TRANSFER</td>\n",
       "      <td>7316255.05</td>\n",
       "      <td>C1869569059</td>\n",
       "      <td>17316255.05</td>\n",
       "      <td>17316255.05</td>\n",
       "      <td>C1861208726</td>\n",
       "      <td>0.0</td>\n",
       "      <td>0.0</td>\n",
       "      <td>1</td>\n",
       "      <td>1</td>\n",
       "    </tr>\n",
       "    <tr>\n",
       "      <th>6362584</th>\n",
       "      <td>741</td>\n",
       "      <td>TRANSFER</td>\n",
       "      <td>5674547.89</td>\n",
       "      <td>C992223106</td>\n",
       "      <td>5674547.89</td>\n",
       "      <td>5674547.89</td>\n",
       "      <td>C1366804249</td>\n",
       "      <td>0.0</td>\n",
       "      <td>0.0</td>\n",
       "      <td>1</td>\n",
       "      <td>1</td>\n",
       "    </tr>\n",
       "  </tbody>\n",
       "</table>\n",
       "</div>"
      ],
      "text/plain": [
       "         step      type       amount     nameOrig  oldbalanceOrg  \\\n",
       "2736446   212  TRANSFER   4953893.08   C728984460     4953893.08   \n",
       "3247297   250  TRANSFER   1343002.08  C1100582606     1343002.08   \n",
       "3760288   279  TRANSFER    536624.41  C1035541766      536624.41   \n",
       "5563713   387  TRANSFER   4892193.09   C908544136     4892193.09   \n",
       "5996407   425  TRANSFER  10000000.00   C689608084    19585040.37   \n",
       "5996409   425  TRANSFER   9585040.37   C452586515    19585040.37   \n",
       "6168499   554  TRANSFER   3576297.10   C193696150     3576297.10   \n",
       "6205439   586  TRANSFER    353874.22  C1684585475      353874.22   \n",
       "6266413   617  TRANSFER   2542664.27   C786455622     2542664.27   \n",
       "6281482   646  TRANSFER  10000000.00    C19004745    10399045.08   \n",
       "6281484   646  TRANSFER    399045.08   C724693370    10399045.08   \n",
       "6296014   671  TRANSFER   3441041.46   C917414431     3441041.46   \n",
       "6351225   702  TRANSFER   3171085.59  C1892216157     3171085.59   \n",
       "6362460   730  TRANSFER  10000000.00  C2140038573    17316255.05   \n",
       "6362462   730  TRANSFER   7316255.05  C1869569059    17316255.05   \n",
       "6362584   741  TRANSFER   5674547.89   C992223106     5674547.89   \n",
       "\n",
       "         newbalanceOrig     nameDest  oldbalanceDest  newbalanceDest  isFraud  \\\n",
       "2736446      4953893.08   C639921569             0.0             0.0        1   \n",
       "3247297      1343002.08  C1147517658             0.0             0.0        1   \n",
       "3760288       536624.41  C1100697970             0.0             0.0        1   \n",
       "5563713      4892193.09   C891140444             0.0             0.0        1   \n",
       "5996407     19585040.37  C1392803603             0.0             0.0        1   \n",
       "5996409     19585040.37  C1109166882             0.0             0.0        1   \n",
       "6168499      3576297.10   C484597480             0.0             0.0        1   \n",
       "6205439       353874.22  C1770418982             0.0             0.0        1   \n",
       "6266413      2542664.27   C661958277             0.0             0.0        1   \n",
       "6281482     10399045.08  C1806199534             0.0             0.0        1   \n",
       "6281484     10399045.08  C1909486199             0.0             0.0        1   \n",
       "6296014      3441041.46  C1082139865             0.0             0.0        1   \n",
       "6351225      3171085.59  C1308068787             0.0             0.0        1   \n",
       "6362460     17316255.05  C1395467927             0.0             0.0        1   \n",
       "6362462     17316255.05  C1861208726             0.0             0.0        1   \n",
       "6362584      5674547.89  C1366804249             0.0             0.0        1   \n",
       "\n",
       "         isFlaggedFraud  \n",
       "2736446               1  \n",
       "3247297               1  \n",
       "3760288               1  \n",
       "5563713               1  \n",
       "5996407               1  \n",
       "5996409               1  \n",
       "6168499               1  \n",
       "6205439               1  \n",
       "6266413               1  \n",
       "6281482               1  \n",
       "6281484               1  \n",
       "6296014               1  \n",
       "6351225               1  \n",
       "6362460               1  \n",
       "6362462               1  \n",
       "6362584               1  "
      ]
     },
     "execution_count": 10,
     "metadata": {},
     "output_type": "execute_result"
    }
   ],
   "source": [
    "df[df['isFlaggedFraud']==1]"
   ]
  },
  {
   "cell_type": "code",
   "execution_count": 11,
   "id": "f8032727-8a46-45bb-b362-7f51a9dcc683",
   "metadata": {},
   "outputs": [
    {
     "data": {
      "text/plain": [
       "array(['PAYMENT', 'TRANSFER', 'CASH_OUT', 'DEBIT', 'CASH_IN'],\n",
       "      dtype=object)"
      ]
     },
     "execution_count": 11,
     "metadata": {},
     "output_type": "execute_result"
    }
   ],
   "source": [
    "df['type'].unique()"
   ]
  },
  {
   "cell_type": "code",
   "execution_count": 12,
   "id": "d4ac0fdd-1324-46ed-b6cc-537811bcd195",
   "metadata": {},
   "outputs": [
    {
     "data": {
      "text/plain": [
       "0"
      ]
     },
     "execution_count": 12,
     "metadata": {},
     "output_type": "execute_result"
    }
   ],
   "source": [
    "df.duplicated().sum()"
   ]
  },
  {
   "cell_type": "raw",
   "id": "e993f826-b343-446f-9141-7ea6ab290d9a",
   "metadata": {},
   "source": [
    "No Null Values"
   ]
  },
  {
   "cell_type": "code",
   "execution_count": 13,
   "id": "2ec7bbd9-2ae2-43d1-bde5-e2ac82a3c6e9",
   "metadata": {},
   "outputs": [
    {
     "data": {
      "text/plain": [
       "step              0.0\n",
       "type              0.0\n",
       "amount            0.0\n",
       "nameOrig          0.0\n",
       "oldbalanceOrg     0.0\n",
       "newbalanceOrig    0.0\n",
       "nameDest          0.0\n",
       "oldbalanceDest    0.0\n",
       "newbalanceDest    0.0\n",
       "isFraud           0.0\n",
       "isFlaggedFraud    0.0\n",
       "dtype: float64"
      ]
     },
     "execution_count": 13,
     "metadata": {},
     "output_type": "execute_result"
    }
   ],
   "source": [
    "df.isnull().mean()*100"
   ]
  },
  {
   "cell_type": "raw",
   "id": "c5a0592e-7c10-4926-9a97-b297819effd6",
   "metadata": {},
   "source": [
    "Converting textual data to numerical"
   ]
  },
  {
   "cell_type": "code",
   "execution_count": 14,
   "id": "685a4f80-533d-41b3-b5b7-1d362249214e",
   "metadata": {},
   "outputs": [],
   "source": [
    "from sklearn.preprocessing import LabelEncoder"
   ]
  },
  {
   "cell_type": "code",
   "execution_count": 15,
   "id": "d60c0e01-cda9-4222-b854-53829c59a032",
   "metadata": {},
   "outputs": [],
   "source": [
    "le = LabelEncoder()"
   ]
  },
  {
   "cell_type": "code",
   "execution_count": 16,
   "id": "c6c9f98c-17c3-49f3-a55d-b1c3bc9f6c00",
   "metadata": {},
   "outputs": [],
   "source": [
    "df['type']=le.fit_transform(df['type'])\n",
    "df['nameOrig']=le.fit_transform(df['nameOrig'])\n",
    "df['nameDest']=le.fit_transform(df['nameDest'])"
   ]
  },
  {
   "cell_type": "code",
   "execution_count": 17,
   "id": "e9c84cb0-7454-4d84-a8e5-50e84410815c",
   "metadata": {},
   "outputs": [
    {
     "data": {
      "text/html": [
       "<div>\n",
       "<style scoped>\n",
       "    .dataframe tbody tr th:only-of-type {\n",
       "        vertical-align: middle;\n",
       "    }\n",
       "\n",
       "    .dataframe tbody tr th {\n",
       "        vertical-align: top;\n",
       "    }\n",
       "\n",
       "    .dataframe thead th {\n",
       "        text-align: right;\n",
       "    }\n",
       "</style>\n",
       "<table border=\"1\" class=\"dataframe\">\n",
       "  <thead>\n",
       "    <tr style=\"text-align: right;\">\n",
       "      <th></th>\n",
       "      <th>step</th>\n",
       "      <th>type</th>\n",
       "      <th>amount</th>\n",
       "      <th>nameOrig</th>\n",
       "      <th>oldbalanceOrg</th>\n",
       "      <th>newbalanceOrig</th>\n",
       "      <th>nameDest</th>\n",
       "      <th>oldbalanceDest</th>\n",
       "      <th>newbalanceDest</th>\n",
       "      <th>isFraud</th>\n",
       "      <th>isFlaggedFraud</th>\n",
       "    </tr>\n",
       "  </thead>\n",
       "  <tbody>\n",
       "    <tr>\n",
       "      <th>0</th>\n",
       "      <td>1</td>\n",
       "      <td>3</td>\n",
       "      <td>9839.64</td>\n",
       "      <td>757869</td>\n",
       "      <td>170136.0</td>\n",
       "      <td>160296.36</td>\n",
       "      <td>1662094</td>\n",
       "      <td>0.0</td>\n",
       "      <td>0.0</td>\n",
       "      <td>0</td>\n",
       "      <td>0</td>\n",
       "    </tr>\n",
       "    <tr>\n",
       "      <th>1</th>\n",
       "      <td>1</td>\n",
       "      <td>3</td>\n",
       "      <td>1864.28</td>\n",
       "      <td>2188998</td>\n",
       "      <td>21249.0</td>\n",
       "      <td>19384.72</td>\n",
       "      <td>1733924</td>\n",
       "      <td>0.0</td>\n",
       "      <td>0.0</td>\n",
       "      <td>0</td>\n",
       "      <td>0</td>\n",
       "    </tr>\n",
       "    <tr>\n",
       "      <th>2</th>\n",
       "      <td>1</td>\n",
       "      <td>4</td>\n",
       "      <td>181.00</td>\n",
       "      <td>1002156</td>\n",
       "      <td>181.0</td>\n",
       "      <td>0.00</td>\n",
       "      <td>439685</td>\n",
       "      <td>0.0</td>\n",
       "      <td>0.0</td>\n",
       "      <td>1</td>\n",
       "      <td>0</td>\n",
       "    </tr>\n",
       "    <tr>\n",
       "      <th>3</th>\n",
       "      <td>1</td>\n",
       "      <td>1</td>\n",
       "      <td>181.00</td>\n",
       "      <td>5828262</td>\n",
       "      <td>181.0</td>\n",
       "      <td>0.00</td>\n",
       "      <td>391696</td>\n",
       "      <td>21182.0</td>\n",
       "      <td>0.0</td>\n",
       "      <td>1</td>\n",
       "      <td>0</td>\n",
       "    </tr>\n",
       "    <tr>\n",
       "      <th>4</th>\n",
       "      <td>1</td>\n",
       "      <td>3</td>\n",
       "      <td>11668.14</td>\n",
       "      <td>3445981</td>\n",
       "      <td>41554.0</td>\n",
       "      <td>29885.86</td>\n",
       "      <td>828919</td>\n",
       "      <td>0.0</td>\n",
       "      <td>0.0</td>\n",
       "      <td>0</td>\n",
       "      <td>0</td>\n",
       "    </tr>\n",
       "  </tbody>\n",
       "</table>\n",
       "</div>"
      ],
      "text/plain": [
       "   step  type    amount  nameOrig  oldbalanceOrg  newbalanceOrig  nameDest  \\\n",
       "0     1     3   9839.64    757869       170136.0       160296.36   1662094   \n",
       "1     1     3   1864.28   2188998        21249.0        19384.72   1733924   \n",
       "2     1     4    181.00   1002156          181.0            0.00    439685   \n",
       "3     1     1    181.00   5828262          181.0            0.00    391696   \n",
       "4     1     3  11668.14   3445981        41554.0        29885.86    828919   \n",
       "\n",
       "   oldbalanceDest  newbalanceDest  isFraud  isFlaggedFraud  \n",
       "0             0.0             0.0        0               0  \n",
       "1             0.0             0.0        0               0  \n",
       "2             0.0             0.0        1               0  \n",
       "3         21182.0             0.0        1               0  \n",
       "4             0.0             0.0        0               0  "
      ]
     },
     "execution_count": 17,
     "metadata": {},
     "output_type": "execute_result"
    }
   ],
   "source": [
    "df.head()"
   ]
  },
  {
   "cell_type": "code",
   "execution_count": 18,
   "id": "dba0dbb5-1082-47c8-a44b-b9dcaa8f8afd",
   "metadata": {},
   "outputs": [
    {
     "data": {
      "text/plain": [
       "nameOrig\n",
       "2964663    3\n",
       "4260723    3\n",
       "4857429    3\n",
       "5447168    3\n",
       "2575378    3\n",
       "          ..\n",
       "6319574    1\n",
       "5433113    1\n",
       "1863502    1\n",
       "5185095    1\n",
       "919229     1\n",
       "Name: count, Length: 6353307, dtype: int64"
      ]
     },
     "execution_count": 18,
     "metadata": {},
     "output_type": "execute_result"
    }
   ],
   "source": [
    "df['nameOrig'].value_counts()"
   ]
  },
  {
   "cell_type": "code",
   "execution_count": 19,
   "id": "97c728d0-e3d9-4310-a995-7b23ef8d3c24",
   "metadata": {},
   "outputs": [],
   "source": [
    "label=df['isFraud']"
   ]
  },
  {
   "cell_type": "code",
   "execution_count": 20,
   "id": "7c3beae4-6541-4dae-b615-0578792303b2",
   "metadata": {},
   "outputs": [],
   "source": [
    "data= df.drop('isFraud',axis=1)"
   ]
  },
  {
   "cell_type": "code",
   "execution_count": 21,
   "id": "257d36a4-9e44-430e-8060-9da087ff125c",
   "metadata": {},
   "outputs": [
    {
     "data": {
      "text/plain": [
       "(6362620, 10)"
      ]
     },
     "execution_count": 21,
     "metadata": {},
     "output_type": "execute_result"
    }
   ],
   "source": [
    "data.shape"
   ]
  },
  {
   "cell_type": "code",
   "execution_count": 22,
   "id": "c5fe5e1e-5835-46d5-aa5e-088b9ebcbc13",
   "metadata": {},
   "outputs": [
    {
     "data": {
      "text/plain": [
       "0    0\n",
       "1    0\n",
       "2    1\n",
       "3    1\n",
       "4    0\n",
       "Name: isFraud, dtype: int64"
      ]
     },
     "execution_count": 22,
     "metadata": {},
     "output_type": "execute_result"
    }
   ],
   "source": [
    "label.head()"
   ]
  },
  {
   "cell_type": "raw",
   "id": "bf76e296-c4c1-4232-a18b-00f667ce0921",
   "metadata": {},
   "source": [
    "Outlier Detection & Removal"
   ]
  },
  {
   "cell_type": "code",
   "execution_count": 23,
   "id": "ed50a0be-a9f3-4ad4-aada-f7f61c9bb2d3",
   "metadata": {
    "scrolled": true
   },
   "outputs": [
    {
     "data": {
      "text/html": [
       "<div>\n",
       "<style scoped>\n",
       "    .dataframe tbody tr th:only-of-type {\n",
       "        vertical-align: middle;\n",
       "    }\n",
       "\n",
       "    .dataframe tbody tr th {\n",
       "        vertical-align: top;\n",
       "    }\n",
       "\n",
       "    .dataframe thead th {\n",
       "        text-align: right;\n",
       "    }\n",
       "</style>\n",
       "<table border=\"1\" class=\"dataframe\">\n",
       "  <thead>\n",
       "    <tr style=\"text-align: right;\">\n",
       "      <th></th>\n",
       "      <th>step</th>\n",
       "      <th>type</th>\n",
       "      <th>amount</th>\n",
       "      <th>nameOrig</th>\n",
       "      <th>oldbalanceOrg</th>\n",
       "      <th>newbalanceOrig</th>\n",
       "      <th>nameDest</th>\n",
       "      <th>oldbalanceDest</th>\n",
       "      <th>newbalanceDest</th>\n",
       "      <th>isFlaggedFraud</th>\n",
       "    </tr>\n",
       "  </thead>\n",
       "  <tbody>\n",
       "    <tr>\n",
       "      <th>0</th>\n",
       "      <td>1</td>\n",
       "      <td>3</td>\n",
       "      <td>9839.64</td>\n",
       "      <td>757869</td>\n",
       "      <td>170136.0</td>\n",
       "      <td>160296.36</td>\n",
       "      <td>1662094</td>\n",
       "      <td>0.0</td>\n",
       "      <td>0.0</td>\n",
       "      <td>0</td>\n",
       "    </tr>\n",
       "    <tr>\n",
       "      <th>1</th>\n",
       "      <td>1</td>\n",
       "      <td>3</td>\n",
       "      <td>1864.28</td>\n",
       "      <td>2188998</td>\n",
       "      <td>21249.0</td>\n",
       "      <td>19384.72</td>\n",
       "      <td>1733924</td>\n",
       "      <td>0.0</td>\n",
       "      <td>0.0</td>\n",
       "      <td>0</td>\n",
       "    </tr>\n",
       "    <tr>\n",
       "      <th>2</th>\n",
       "      <td>1</td>\n",
       "      <td>4</td>\n",
       "      <td>181.00</td>\n",
       "      <td>1002156</td>\n",
       "      <td>181.0</td>\n",
       "      <td>0.00</td>\n",
       "      <td>439685</td>\n",
       "      <td>0.0</td>\n",
       "      <td>0.0</td>\n",
       "      <td>0</td>\n",
       "    </tr>\n",
       "    <tr>\n",
       "      <th>3</th>\n",
       "      <td>1</td>\n",
       "      <td>1</td>\n",
       "      <td>181.00</td>\n",
       "      <td>5828262</td>\n",
       "      <td>181.0</td>\n",
       "      <td>0.00</td>\n",
       "      <td>391696</td>\n",
       "      <td>21182.0</td>\n",
       "      <td>0.0</td>\n",
       "      <td>0</td>\n",
       "    </tr>\n",
       "    <tr>\n",
       "      <th>4</th>\n",
       "      <td>1</td>\n",
       "      <td>3</td>\n",
       "      <td>11668.14</td>\n",
       "      <td>3445981</td>\n",
       "      <td>41554.0</td>\n",
       "      <td>29885.86</td>\n",
       "      <td>828919</td>\n",
       "      <td>0.0</td>\n",
       "      <td>0.0</td>\n",
       "      <td>0</td>\n",
       "    </tr>\n",
       "  </tbody>\n",
       "</table>\n",
       "</div>"
      ],
      "text/plain": [
       "   step  type    amount  nameOrig  oldbalanceOrg  newbalanceOrig  nameDest  \\\n",
       "0     1     3   9839.64    757869       170136.0       160296.36   1662094   \n",
       "1     1     3   1864.28   2188998        21249.0        19384.72   1733924   \n",
       "2     1     4    181.00   1002156          181.0            0.00    439685   \n",
       "3     1     1    181.00   5828262          181.0            0.00    391696   \n",
       "4     1     3  11668.14   3445981        41554.0        29885.86    828919   \n",
       "\n",
       "   oldbalanceDest  newbalanceDest  isFlaggedFraud  \n",
       "0             0.0             0.0               0  \n",
       "1             0.0             0.0               0  \n",
       "2             0.0             0.0               0  \n",
       "3         21182.0             0.0               0  \n",
       "4             0.0             0.0               0  "
      ]
     },
     "execution_count": 23,
     "metadata": {},
     "output_type": "execute_result"
    }
   ],
   "source": [
    "data.head()"
   ]
  },
  {
   "cell_type": "code",
   "execution_count": 24,
   "id": "d80bcb64-80f3-4e67-95ff-9e06b98703b8",
   "metadata": {},
   "outputs": [
    {
     "data": {
      "text/plain": [
       "<Axes: xlabel='type', ylabel='Density'>"
      ]
     },
     "execution_count": 24,
     "metadata": {},
     "output_type": "execute_result"
    },
    {
     "data": {
      "image/png": "[encoded data removed]",
      "text/plain": [
       "<Figure size 1000x500 with 2 Axes>"
      ]
     },
     "metadata": {},
     "output_type": "display_data"
    }
   ],
   "source": [
    "plt.figure(figsize=(10,5))\n",
    "\n",
    "plt.subplot(1,2,1)\n",
    "sns.distplot(df['step'])\n",
    "\n",
    "plt.subplot(1,2,2)\n",
    "sns.distplot(df['type'])\n"
   ]
  },
  {
   "cell_type": "raw",
   "id": "3dcb1698-e011-4887-b618-625aa036c8ec",
   "metadata": {},
   "source": [
    "The above graphs are in normal distribution hence we will use Z-Score for outlier detection & removal"
   ]
  },
  {
   "cell_type": "code",
   "execution_count": 25,
   "id": "12948858-22b2-4b9c-95a7-604bf89a1e98",
   "metadata": {},
   "outputs": [
    {
     "data": {
      "text/plain": [
       "count    6.362620e+06\n",
       "mean     2.433972e+02\n",
       "std      1.423320e+02\n",
       "min      1.000000e+00\n",
       "25%      1.560000e+02\n",
       "50%      2.390000e+02\n",
       "75%      3.350000e+02\n",
       "max      7.430000e+02\n",
       "Name: step, dtype: float64"
      ]
     },
     "execution_count": 25,
     "metadata": {},
     "output_type": "execute_result"
    }
   ],
   "source": [
    "data['step'].describe()"
   ]
  },
  {
   "cell_type": "code",
   "execution_count": 26,
   "id": "99e7a0de-86bb-4f3c-ada0-df000a060b22",
   "metadata": {},
   "outputs": [
    {
     "name": "stdout",
     "output_type": "stream",
     "text": [
      "Highest allowed 670.3931587789375\n",
      "Lowest allowed -183.59866751590442\n"
     ]
    }
   ],
   "source": [
    "# Finding the boundary values of step column\n",
    "print(\"Highest allowed\",data['step'].mean() + 3*data['step'].std()) #anything above highest allowed is an outlier\n",
    "print(\"Lowest allowed\",data['step'].mean() - 3*data['step'].std()) #anything below lowest allowed is an outliera"
   ]
  },
  {
   "cell_type": "code",
   "execution_count": 27,
   "id": "fc839457-3427-445e-9b44-013d13c176fe",
   "metadata": {},
   "outputs": [
    {
     "data": {
      "text/html": [
       "<div>\n",
       "<style scoped>\n",
       "    .dataframe tbody tr th:only-of-type {\n",
       "        vertical-align: middle;\n",
       "    }\n",
       "\n",
       "    .dataframe tbody tr th {\n",
       "        vertical-align: top;\n",
       "    }\n",
       "\n",
       "    .dataframe thead th {\n",
       "        text-align: right;\n",
       "    }\n",
       "</style>\n",
       "<table border=\"1\" class=\"dataframe\">\n",
       "  <thead>\n",
       "    <tr style=\"text-align: right;\">\n",
       "      <th></th>\n",
       "      <th>step</th>\n",
       "      <th>type</th>\n",
       "      <th>amount</th>\n",
       "      <th>nameOrig</th>\n",
       "      <th>oldbalanceOrg</th>\n",
       "      <th>newbalanceOrig</th>\n",
       "      <th>nameDest</th>\n",
       "      <th>oldbalanceDest</th>\n",
       "      <th>newbalanceDest</th>\n",
       "      <th>isFlaggedFraud</th>\n",
       "    </tr>\n",
       "  </thead>\n",
       "  <tbody>\n",
       "    <tr>\n",
       "      <th>6296000</th>\n",
       "      <td>671</td>\n",
       "      <td>4</td>\n",
       "      <td>3544.76</td>\n",
       "      <td>5441228</td>\n",
       "      <td>3544.76</td>\n",
       "      <td>0.0</td>\n",
       "      <td>5090</td>\n",
       "      <td>0.00</td>\n",
       "      <td>0.00</td>\n",
       "      <td>0</td>\n",
       "    </tr>\n",
       "    <tr>\n",
       "      <th>6296001</th>\n",
       "      <td>671</td>\n",
       "      <td>1</td>\n",
       "      <td>3544.76</td>\n",
       "      <td>1970891</td>\n",
       "      <td>3544.76</td>\n",
       "      <td>0.0</td>\n",
       "      <td>532503</td>\n",
       "      <td>1149120.99</td>\n",
       "      <td>1152665.75</td>\n",
       "      <td>0</td>\n",
       "    </tr>\n",
       "    <tr>\n",
       "      <th>6296002</th>\n",
       "      <td>671</td>\n",
       "      <td>4</td>\n",
       "      <td>188731.21</td>\n",
       "      <td>1274296</td>\n",
       "      <td>188731.21</td>\n",
       "      <td>0.0</td>\n",
       "      <td>108397</td>\n",
       "      <td>0.00</td>\n",
       "      <td>0.00</td>\n",
       "      <td>0</td>\n",
       "    </tr>\n",
       "    <tr>\n",
       "      <th>6296003</th>\n",
       "      <td>671</td>\n",
       "      <td>1</td>\n",
       "      <td>188731.21</td>\n",
       "      <td>1500591</td>\n",
       "      <td>188731.21</td>\n",
       "      <td>0.0</td>\n",
       "      <td>81561</td>\n",
       "      <td>591154.11</td>\n",
       "      <td>779885.32</td>\n",
       "      <td>0</td>\n",
       "    </tr>\n",
       "    <tr>\n",
       "      <th>6296004</th>\n",
       "      <td>671</td>\n",
       "      <td>4</td>\n",
       "      <td>36956.27</td>\n",
       "      <td>6218176</td>\n",
       "      <td>36956.27</td>\n",
       "      <td>0.0</td>\n",
       "      <td>128246</td>\n",
       "      <td>0.00</td>\n",
       "      <td>0.00</td>\n",
       "      <td>0</td>\n",
       "    </tr>\n",
       "    <tr>\n",
       "      <th>...</th>\n",
       "      <td>...</td>\n",
       "      <td>...</td>\n",
       "      <td>...</td>\n",
       "      <td>...</td>\n",
       "      <td>...</td>\n",
       "      <td>...</td>\n",
       "      <td>...</td>\n",
       "      <td>...</td>\n",
       "      <td>...</td>\n",
       "      <td>...</td>\n",
       "    </tr>\n",
       "    <tr>\n",
       "      <th>6362615</th>\n",
       "      <td>743</td>\n",
       "      <td>1</td>\n",
       "      <td>339682.13</td>\n",
       "      <td>5651847</td>\n",
       "      <td>339682.13</td>\n",
       "      <td>0.0</td>\n",
       "      <td>505863</td>\n",
       "      <td>0.00</td>\n",
       "      <td>339682.13</td>\n",
       "      <td>0</td>\n",
       "    </tr>\n",
       "    <tr>\n",
       "      <th>6362616</th>\n",
       "      <td>743</td>\n",
       "      <td>4</td>\n",
       "      <td>6311409.28</td>\n",
       "      <td>1737278</td>\n",
       "      <td>6311409.28</td>\n",
       "      <td>0.0</td>\n",
       "      <td>260949</td>\n",
       "      <td>0.00</td>\n",
       "      <td>0.00</td>\n",
       "      <td>0</td>\n",
       "    </tr>\n",
       "    <tr>\n",
       "      <th>6362617</th>\n",
       "      <td>743</td>\n",
       "      <td>1</td>\n",
       "      <td>6311409.28</td>\n",
       "      <td>533958</td>\n",
       "      <td>6311409.28</td>\n",
       "      <td>0.0</td>\n",
       "      <td>108224</td>\n",
       "      <td>68488.84</td>\n",
       "      <td>6379898.11</td>\n",
       "      <td>0</td>\n",
       "    </tr>\n",
       "    <tr>\n",
       "      <th>6362618</th>\n",
       "      <td>743</td>\n",
       "      <td>4</td>\n",
       "      <td>850002.52</td>\n",
       "      <td>2252932</td>\n",
       "      <td>850002.52</td>\n",
       "      <td>0.0</td>\n",
       "      <td>319713</td>\n",
       "      <td>0.00</td>\n",
       "      <td>0.00</td>\n",
       "      <td>0</td>\n",
       "    </tr>\n",
       "    <tr>\n",
       "      <th>6362619</th>\n",
       "      <td>743</td>\n",
       "      <td>1</td>\n",
       "      <td>850002.52</td>\n",
       "      <td>919229</td>\n",
       "      <td>850002.52</td>\n",
       "      <td>0.0</td>\n",
       "      <td>534595</td>\n",
       "      <td>6510099.11</td>\n",
       "      <td>7360101.63</td>\n",
       "      <td>0</td>\n",
       "    </tr>\n",
       "  </tbody>\n",
       "</table>\n",
       "<p>66620 rows × 10 columns</p>\n",
       "</div>"
      ],
      "text/plain": [
       "         step  type      amount  nameOrig  oldbalanceOrg  newbalanceOrig  \\\n",
       "6296000   671     4     3544.76   5441228        3544.76             0.0   \n",
       "6296001   671     1     3544.76   1970891        3544.76             0.0   \n",
       "6296002   671     4   188731.21   1274296      188731.21             0.0   \n",
       "6296003   671     1   188731.21   1500591      188731.21             0.0   \n",
       "6296004   671     4    36956.27   6218176       36956.27             0.0   \n",
       "...       ...   ...         ...       ...            ...             ...   \n",
       "6362615   743     1   339682.13   5651847      339682.13             0.0   \n",
       "6362616   743     4  6311409.28   1737278     6311409.28             0.0   \n",
       "6362617   743     1  6311409.28    533958     6311409.28             0.0   \n",
       "6362618   743     4   850002.52   2252932      850002.52             0.0   \n",
       "6362619   743     1   850002.52    919229      850002.52             0.0   \n",
       "\n",
       "         nameDest  oldbalanceDest  newbalanceDest  isFlaggedFraud  \n",
       "6296000      5090            0.00            0.00               0  \n",
       "6296001    532503      1149120.99      1152665.75               0  \n",
       "6296002    108397            0.00            0.00               0  \n",
       "6296003     81561       591154.11       779885.32               0  \n",
       "6296004    128246            0.00            0.00               0  \n",
       "...           ...             ...             ...             ...  \n",
       "6362615    505863            0.00       339682.13               0  \n",
       "6362616    260949            0.00            0.00               0  \n",
       "6362617    108224        68488.84      6379898.11               0  \n",
       "6362618    319713            0.00            0.00               0  \n",
       "6362619    534595      6510099.11      7360101.63               0  \n",
       "\n",
       "[66620 rows x 10 columns]"
      ]
     },
     "execution_count": 27,
     "metadata": {},
     "output_type": "execute_result"
    }
   ],
   "source": [
    "# Finding the outliers\n",
    "data[(data['step'] > 670.3931587789375) | (data['step'] < -183.59866751590442)]"
   ]
  },
  {
   "cell_type": "code",
   "execution_count": 28,
   "id": "932dd3ae-9de9-4ea4-acba-d62857fbe26c",
   "metadata": {},
   "outputs": [],
   "source": [
    "upper_limit=data['step'].mean() + 3*data['step'].std()\n",
    "lower_limit=data['step'].mean() - 3*data['step'].std()"
   ]
  },
  {
   "cell_type": "code",
   "execution_count": 29,
   "id": "c3e8bd24-4fbe-4406-8bf0-4aa455078fac",
   "metadata": {},
   "outputs": [],
   "source": [
    "#Capping\n",
    "\n",
    "data['step'] = np.where(\n",
    "    data['step']>upper_limit,\n",
    "    upper_limit,\n",
    "    np.where(\n",
    "        data['step']<lower_limit,\n",
    "        lower_limit,\n",
    "        data['step']\n",
    "    )\n",
    ")"
   ]
  },
  {
   "cell_type": "code",
   "execution_count": 30,
   "id": "7813a797-7015-4a45-8435-4278e3f4022c",
   "metadata": {},
   "outputs": [
    {
     "data": {
      "text/html": [
       "<div>\n",
       "<style scoped>\n",
       "    .dataframe tbody tr th:only-of-type {\n",
       "        vertical-align: middle;\n",
       "    }\n",
       "\n",
       "    .dataframe tbody tr th {\n",
       "        vertical-align: top;\n",
       "    }\n",
       "\n",
       "    .dataframe thead th {\n",
       "        text-align: right;\n",
       "    }\n",
       "</style>\n",
       "<table border=\"1\" class=\"dataframe\">\n",
       "  <thead>\n",
       "    <tr style=\"text-align: right;\">\n",
       "      <th></th>\n",
       "      <th>step</th>\n",
       "      <th>type</th>\n",
       "      <th>amount</th>\n",
       "      <th>nameOrig</th>\n",
       "      <th>oldbalanceOrg</th>\n",
       "      <th>newbalanceOrig</th>\n",
       "      <th>nameDest</th>\n",
       "      <th>oldbalanceDest</th>\n",
       "      <th>newbalanceDest</th>\n",
       "      <th>isFlaggedFraud</th>\n",
       "    </tr>\n",
       "  </thead>\n",
       "  <tbody>\n",
       "  </tbody>\n",
       "</table>\n",
       "</div>"
      ],
      "text/plain": [
       "Empty DataFrame\n",
       "Columns: [step, type, amount, nameOrig, oldbalanceOrg, newbalanceOrig, nameDest, oldbalanceDest, newbalanceDest, isFlaggedFraud]\n",
       "Index: []"
      ]
     },
     "execution_count": 30,
     "metadata": {},
     "output_type": "execute_result"
    }
   ],
   "source": [
    "#Outliers Removed from step column\n",
    "data[(data['step'] > 670.3931587789375) | (data['step'] < -183.59866751590442)]"
   ]
  },
  {
   "cell_type": "code",
   "execution_count": 31,
   "id": "5b3e3f83-a836-4aa4-a571-666c54ea755c",
   "metadata": {},
   "outputs": [
    {
     "name": "stdout",
     "output_type": "stream",
     "text": [
      "Highest allowed 5.76449971324236\n",
      "Lowest allowed -2.3361997361888824\n"
     ]
    }
   ],
   "source": [
    "# Finding the boundary values of type column\n",
    "print(\"Highest allowed\",data['type'].mean() + 3*data['type'].std()) #anything above highest allowed is an outlier\n",
    "print(\"Lowest allowed\",data['type'].mean() - 3*data['type'].std()) #anything below lowest allowed is an outliera"
   ]
  },
  {
   "cell_type": "raw",
   "id": "d22b4bab-bb52-4303-b604-6e307820aa64",
   "metadata": {},
   "source": [
    "No Outliers Found in the 'type' col"
   ]
  },
  {
   "cell_type": "code",
   "execution_count": 32,
   "id": "60259c26-c5b4-46d4-a916-129db8a1db49",
   "metadata": {},
   "outputs": [
    {
     "data": {
      "text/html": [
       "<div>\n",
       "<style scoped>\n",
       "    .dataframe tbody tr th:only-of-type {\n",
       "        vertical-align: middle;\n",
       "    }\n",
       "\n",
       "    .dataframe tbody tr th {\n",
       "        vertical-align: top;\n",
       "    }\n",
       "\n",
       "    .dataframe thead th {\n",
       "        text-align: right;\n",
       "    }\n",
       "</style>\n",
       "<table border=\"1\" class=\"dataframe\">\n",
       "  <thead>\n",
       "    <tr style=\"text-align: right;\">\n",
       "      <th></th>\n",
       "      <th>step</th>\n",
       "      <th>type</th>\n",
       "      <th>amount</th>\n",
       "      <th>nameOrig</th>\n",
       "      <th>oldbalanceOrg</th>\n",
       "      <th>newbalanceOrig</th>\n",
       "      <th>nameDest</th>\n",
       "      <th>oldbalanceDest</th>\n",
       "      <th>newbalanceDest</th>\n",
       "      <th>isFlaggedFraud</th>\n",
       "    </tr>\n",
       "  </thead>\n",
       "  <tbody>\n",
       "  </tbody>\n",
       "</table>\n",
       "</div>"
      ],
      "text/plain": [
       "Empty DataFrame\n",
       "Columns: [step, type, amount, nameOrig, oldbalanceOrg, newbalanceOrig, nameDest, oldbalanceDest, newbalanceDest, isFlaggedFraud]\n",
       "Index: []"
      ]
     },
     "execution_count": 32,
     "metadata": {},
     "output_type": "execute_result"
    }
   ],
   "source": [
    "# Finding the outliers\n",
    "data[(data['type'] > 5.76449971324236) | (data['type'] < -2.3361997361888824)]"
   ]
  },
  {
   "cell_type": "code",
   "execution_count": 33,
   "id": "494f8d72-edfe-421d-8323-7a8d6a0c7778",
   "metadata": {},
   "outputs": [
    {
     "data": {
      "text/plain": [
       "<Axes: xlabel='nameOrig', ylabel='Density'>"
      ]
     },
     "execution_count": 33,
     "metadata": {},
     "output_type": "execute_result"
    },
    {
     "data": {
      "image/png": "[encoded data removed]",
      "text/plain": [
       "<Figure size 1000x500 with 2 Axes>"
      ]
     },
     "metadata": {},
     "output_type": "display_data"
    }
   ],
   "source": [
    "plt.figure(figsize=(10,5))\n",
    "\n",
    "plt.subplot(1,2,1)\n",
    "sns.distplot(df['amount'])\n",
    "\n",
    "plt.subplot(1,2,2)\n",
    "sns.distplot(df['nameOrig'])\n"
   ]
  },
  {
   "cell_type": "raw",
   "id": "ea35e1e7-0b6f-44db-b848-8444351276f4",
   "metadata": {},
   "source": [
    "Above graphs are skewed so we will use IQR method to detect and remove outliers"
   ]
  },
  {
   "cell_type": "code",
   "execution_count": 34,
   "id": "78c9e020-f84b-4119-823b-17a02d2e09a7",
   "metadata": {},
   "outputs": [
    {
     "data": {
      "text/plain": [
       "<Axes: xlabel='amount'>"
      ]
     },
     "execution_count": 34,
     "metadata": {},
     "output_type": "execute_result"
    },
    {
     "data": {
      "image/png": "[encoded data removed]",
      "text/plain": [
       "<Figure size 640x480 with 1 Axes>"
      ]
     },
     "metadata": {},
     "output_type": "display_data"
    }
   ],
   "source": [
    "sns.boxplot(x=data['amount'])"
   ]
  },
  {
   "cell_type": "code",
   "execution_count": 35,
   "id": "e5c6a765-6b05-4712-8934-6c303a0e3e90",
   "metadata": {},
   "outputs": [],
   "source": [
    "# Finding the IQR\n",
    "percentile25 = data['amount'].quantile(0.25)\n",
    "percentile75 = data['amount'].quantile(0.75)"
   ]
  },
  {
   "cell_type": "code",
   "execution_count": 36,
   "id": "f32112ca-29c7-451d-837d-4a81cbacd151",
   "metadata": {},
   "outputs": [
    {
     "data": {
      "text/plain": [
       "13389.57"
      ]
     },
     "execution_count": 36,
     "metadata": {},
     "output_type": "execute_result"
    }
   ],
   "source": [
    "percentile25"
   ]
  },
  {
   "cell_type": "code",
   "execution_count": 37,
   "id": "a7530b57-1ecb-4047-82fe-3afdedb9ea44",
   "metadata": {},
   "outputs": [
    {
     "data": {
      "text/plain": [
       "208721.4775"
      ]
     },
     "execution_count": 37,
     "metadata": {},
     "output_type": "execute_result"
    }
   ],
   "source": [
    "percentile75"
   ]
  },
  {
   "cell_type": "code",
   "execution_count": 38,
   "id": "a69b8d95-0e03-4a9a-9305-a95067eab4c7",
   "metadata": {},
   "outputs": [],
   "source": [
    "iqr = percentile75 - percentile25"
   ]
  },
  {
   "cell_type": "code",
   "execution_count": 39,
   "id": "f2dcff8e-97ba-4d77-b8c3-89596fbc896d",
   "metadata": {},
   "outputs": [
    {
     "data": {
      "text/plain": [
       "195331.9075"
      ]
     },
     "execution_count": 39,
     "metadata": {},
     "output_type": "execute_result"
    }
   ],
   "source": [
    "iqr"
   ]
  },
  {
   "cell_type": "code",
   "execution_count": 40,
   "id": "f6b578f3-2deb-4bc8-95ae-d4f90932b67f",
   "metadata": {},
   "outputs": [],
   "source": [
    "upper_limit = percentile75 + 1.5 * iqr\n",
    "lower_limit = percentile25 - 1.5 * iqr"
   ]
  },
  {
   "cell_type": "code",
   "execution_count": 41,
   "id": "aa85ee56-5720-42f4-b00b-de92e7aa2ddb",
   "metadata": {},
   "outputs": [
    {
     "name": "stdout",
     "output_type": "stream",
     "text": [
      "Upper limit 501719.33875\n",
      "Lower limit -279608.29125\n"
     ]
    }
   ],
   "source": [
    "print(\"Upper limit\",upper_limit)\n",
    "print(\"Lower limit\",lower_limit)"
   ]
  },
  {
   "cell_type": "code",
   "execution_count": 42,
   "id": "9065337d-b014-42b3-b3e9-649ac399bd97",
   "metadata": {},
   "outputs": [
    {
     "data": {
      "text/html": [
       "<div>\n",
       "<style scoped>\n",
       "    .dataframe tbody tr th:only-of-type {\n",
       "        vertical-align: middle;\n",
       "    }\n",
       "\n",
       "    .dataframe tbody tr th {\n",
       "        vertical-align: top;\n",
       "    }\n",
       "\n",
       "    .dataframe thead th {\n",
       "        text-align: right;\n",
       "    }\n",
       "</style>\n",
       "<table border=\"1\" class=\"dataframe\">\n",
       "  <thead>\n",
       "    <tr style=\"text-align: right;\">\n",
       "      <th></th>\n",
       "      <th>step</th>\n",
       "      <th>type</th>\n",
       "      <th>amount</th>\n",
       "      <th>nameOrig</th>\n",
       "      <th>oldbalanceOrg</th>\n",
       "      <th>newbalanceOrig</th>\n",
       "      <th>nameDest</th>\n",
       "      <th>oldbalanceDest</th>\n",
       "      <th>newbalanceDest</th>\n",
       "      <th>isFlaggedFraud</th>\n",
       "    </tr>\n",
       "  </thead>\n",
       "  <tbody>\n",
       "    <tr>\n",
       "      <th>85</th>\n",
       "      <td>1.000000</td>\n",
       "      <td>4</td>\n",
       "      <td>1505626.01</td>\n",
       "      <td>6113295</td>\n",
       "      <td>0.00</td>\n",
       "      <td>0.0</td>\n",
       "      <td>472721</td>\n",
       "      <td>29031.00</td>\n",
       "      <td>5515763.34</td>\n",
       "      <td>0</td>\n",
       "    </tr>\n",
       "    <tr>\n",
       "      <th>86</th>\n",
       "      <td>1.000000</td>\n",
       "      <td>4</td>\n",
       "      <td>554026.99</td>\n",
       "      <td>1983067</td>\n",
       "      <td>0.00</td>\n",
       "      <td>0.0</td>\n",
       "      <td>502728</td>\n",
       "      <td>579285.56</td>\n",
       "      <td>0.00</td>\n",
       "      <td>0</td>\n",
       "    </tr>\n",
       "    <tr>\n",
       "      <th>88</th>\n",
       "      <td>1.000000</td>\n",
       "      <td>4</td>\n",
       "      <td>761507.39</td>\n",
       "      <td>4421346</td>\n",
       "      <td>0.00</td>\n",
       "      <td>0.0</td>\n",
       "      <td>174831</td>\n",
       "      <td>1280036.23</td>\n",
       "      <td>19169204.93</td>\n",
       "      <td>0</td>\n",
       "    </tr>\n",
       "    <tr>\n",
       "      <th>89</th>\n",
       "      <td>1.000000</td>\n",
       "      <td>4</td>\n",
       "      <td>1429051.47</td>\n",
       "      <td>1708442</td>\n",
       "      <td>0.00</td>\n",
       "      <td>0.0</td>\n",
       "      <td>174831</td>\n",
       "      <td>2041543.62</td>\n",
       "      <td>19169204.93</td>\n",
       "      <td>0</td>\n",
       "    </tr>\n",
       "    <tr>\n",
       "      <th>93</th>\n",
       "      <td>1.000000</td>\n",
       "      <td>4</td>\n",
       "      <td>583848.46</td>\n",
       "      <td>2756831</td>\n",
       "      <td>0.00</td>\n",
       "      <td>0.0</td>\n",
       "      <td>84652</td>\n",
       "      <td>667778.00</td>\n",
       "      <td>2107778.11</td>\n",
       "      <td>0</td>\n",
       "    </tr>\n",
       "    <tr>\n",
       "      <th>...</th>\n",
       "      <td>...</td>\n",
       "      <td>...</td>\n",
       "      <td>...</td>\n",
       "      <td>...</td>\n",
       "      <td>...</td>\n",
       "      <td>...</td>\n",
       "      <td>...</td>\n",
       "      <td>...</td>\n",
       "      <td>...</td>\n",
       "      <td>...</td>\n",
       "    </tr>\n",
       "    <tr>\n",
       "      <th>6362613</th>\n",
       "      <td>670.393159</td>\n",
       "      <td>1</td>\n",
       "      <td>1258818.82</td>\n",
       "      <td>1432154</td>\n",
       "      <td>1258818.82</td>\n",
       "      <td>0.0</td>\n",
       "      <td>71274</td>\n",
       "      <td>503464.50</td>\n",
       "      <td>1762283.33</td>\n",
       "      <td>0</td>\n",
       "    </tr>\n",
       "    <tr>\n",
       "      <th>6362616</th>\n",
       "      <td>670.393159</td>\n",
       "      <td>4</td>\n",
       "      <td>6311409.28</td>\n",
       "      <td>1737278</td>\n",
       "      <td>6311409.28</td>\n",
       "      <td>0.0</td>\n",
       "      <td>260949</td>\n",
       "      <td>0.00</td>\n",
       "      <td>0.00</td>\n",
       "      <td>0</td>\n",
       "    </tr>\n",
       "    <tr>\n",
       "      <th>6362617</th>\n",
       "      <td>670.393159</td>\n",
       "      <td>1</td>\n",
       "      <td>6311409.28</td>\n",
       "      <td>533958</td>\n",
       "      <td>6311409.28</td>\n",
       "      <td>0.0</td>\n",
       "      <td>108224</td>\n",
       "      <td>68488.84</td>\n",
       "      <td>6379898.11</td>\n",
       "      <td>0</td>\n",
       "    </tr>\n",
       "    <tr>\n",
       "      <th>6362618</th>\n",
       "      <td>670.393159</td>\n",
       "      <td>4</td>\n",
       "      <td>850002.52</td>\n",
       "      <td>2252932</td>\n",
       "      <td>850002.52</td>\n",
       "      <td>0.0</td>\n",
       "      <td>319713</td>\n",
       "      <td>0.00</td>\n",
       "      <td>0.00</td>\n",
       "      <td>0</td>\n",
       "    </tr>\n",
       "    <tr>\n",
       "      <th>6362619</th>\n",
       "      <td>670.393159</td>\n",
       "      <td>1</td>\n",
       "      <td>850002.52</td>\n",
       "      <td>919229</td>\n",
       "      <td>850002.52</td>\n",
       "      <td>0.0</td>\n",
       "      <td>534595</td>\n",
       "      <td>6510099.11</td>\n",
       "      <td>7360101.63</td>\n",
       "      <td>0</td>\n",
       "    </tr>\n",
       "  </tbody>\n",
       "</table>\n",
       "<p>338078 rows × 10 columns</p>\n",
       "</div>"
      ],
      "text/plain": [
       "               step  type      amount  nameOrig  oldbalanceOrg  \\\n",
       "85         1.000000     4  1505626.01   6113295           0.00   \n",
       "86         1.000000     4   554026.99   1983067           0.00   \n",
       "88         1.000000     4   761507.39   4421346           0.00   \n",
       "89         1.000000     4  1429051.47   1708442           0.00   \n",
       "93         1.000000     4   583848.46   2756831           0.00   \n",
       "...             ...   ...         ...       ...            ...   \n",
       "6362613  670.393159     1  1258818.82   1432154     1258818.82   \n",
       "6362616  670.393159     4  6311409.28   1737278     6311409.28   \n",
       "6362617  670.393159     1  6311409.28    533958     6311409.28   \n",
       "6362618  670.393159     4   850002.52   2252932      850002.52   \n",
       "6362619  670.393159     1   850002.52    919229      850002.52   \n",
       "\n",
       "         newbalanceOrig  nameDest  oldbalanceDest  newbalanceDest  \\\n",
       "85                  0.0    472721        29031.00      5515763.34   \n",
       "86                  0.0    502728       579285.56            0.00   \n",
       "88                  0.0    174831      1280036.23     19169204.93   \n",
       "89                  0.0    174831      2041543.62     19169204.93   \n",
       "93                  0.0     84652       667778.00      2107778.11   \n",
       "...                 ...       ...             ...             ...   \n",
       "6362613             0.0     71274       503464.50      1762283.33   \n",
       "6362616             0.0    260949            0.00            0.00   \n",
       "6362617             0.0    108224        68488.84      6379898.11   \n",
       "6362618             0.0    319713            0.00            0.00   \n",
       "6362619             0.0    534595      6510099.11      7360101.63   \n",
       "\n",
       "         isFlaggedFraud  \n",
       "85                    0  \n",
       "86                    0  \n",
       "88                    0  \n",
       "89                    0  \n",
       "93                    0  \n",
       "...                 ...  \n",
       "6362613               0  \n",
       "6362616               0  \n",
       "6362617               0  \n",
       "6362618               0  \n",
       "6362619               0  \n",
       "\n",
       "[338078 rows x 10 columns]"
      ]
     },
     "execution_count": 42,
     "metadata": {},
     "output_type": "execute_result"
    }
   ],
   "source": [
    "# Finding the outliers\n",
    "data[(data['amount'] >  501719.33875) | (data['amount'] < -279608.29125)]"
   ]
  },
  {
   "cell_type": "code",
   "execution_count": 43,
   "id": "3d8afbf6-c65e-4bd7-b3dc-2465573120de",
   "metadata": {},
   "outputs": [],
   "source": [
    "#Capping\n",
    "\n",
    "data['amount'] = np.where(\n",
    "    data['amount']>upper_limit,\n",
    "    upper_limit,\n",
    "    np.where(\n",
    "        data['amount']<lower_limit,\n",
    "        lower_limit,\n",
    "        data['amount']\n",
    "    )\n",
    ")"
   ]
  },
  {
   "cell_type": "raw",
   "id": "1b661e8d-061c-403a-9853-c31c4e82eaf4",
   "metadata": {},
   "source": [
    "Outliers removed from 'amount' col"
   ]
  },
  {
   "cell_type": "code",
   "execution_count": 44,
   "id": "3d0cc59a-1997-4238-a92e-836a50201ad1",
   "metadata": {},
   "outputs": [
    {
     "data": {
      "text/html": [
       "<div>\n",
       "<style scoped>\n",
       "    .dataframe tbody tr th:only-of-type {\n",
       "        vertical-align: middle;\n",
       "    }\n",
       "\n",
       "    .dataframe tbody tr th {\n",
       "        vertical-align: top;\n",
       "    }\n",
       "\n",
       "    .dataframe thead th {\n",
       "        text-align: right;\n",
       "    }\n",
       "</style>\n",
       "<table border=\"1\" class=\"dataframe\">\n",
       "  <thead>\n",
       "    <tr style=\"text-align: right;\">\n",
       "      <th></th>\n",
       "      <th>step</th>\n",
       "      <th>type</th>\n",
       "      <th>amount</th>\n",
       "      <th>nameOrig</th>\n",
       "      <th>oldbalanceOrg</th>\n",
       "      <th>newbalanceOrig</th>\n",
       "      <th>nameDest</th>\n",
       "      <th>oldbalanceDest</th>\n",
       "      <th>newbalanceDest</th>\n",
       "      <th>isFlaggedFraud</th>\n",
       "    </tr>\n",
       "  </thead>\n",
       "  <tbody>\n",
       "  </tbody>\n",
       "</table>\n",
       "</div>"
      ],
      "text/plain": [
       "Empty DataFrame\n",
       "Columns: [step, type, amount, nameOrig, oldbalanceOrg, newbalanceOrig, nameDest, oldbalanceDest, newbalanceDest, isFlaggedFraud]\n",
       "Index: []"
      ]
     },
     "execution_count": 44,
     "metadata": {},
     "output_type": "execute_result"
    }
   ],
   "source": [
    "data[(data['amount'] >  501719.33875) | (data['amount'] < -279608.29125)]"
   ]
  },
  {
   "cell_type": "code",
   "execution_count": 45,
   "id": "0e531c87-c9ed-4d9f-ac69-08a4ab2312f6",
   "metadata": {},
   "outputs": [
    {
     "data": {
      "text/plain": [
       "<Axes: xlabel='amount'>"
      ]
     },
     "execution_count": 45,
     "metadata": {},
     "output_type": "execute_result"
    },
    {
     "data": {
      "image/png": "[encoded data removed]",
      "text/plain": [
       "<Figure size 640x480 with 1 Axes>"
      ]
     },
     "metadata": {},
     "output_type": "display_data"
    }
   ],
   "source": [
    "sns.boxplot(x=data['amount'])"
   ]
  },
  {
   "cell_type": "raw",
   "id": "9188491e-fd12-4457-aed1-689a6eaae6b7",
   "metadata": {},
   "source": [
    "No outliers in 'nameOrig' col"
   ]
  },
  {
   "cell_type": "code",
   "execution_count": 46,
   "id": "a6a0a8fb-da7a-40b5-b865-f4e44c7f6134",
   "metadata": {},
   "outputs": [
    {
     "data": {
      "text/plain": [
       "<Axes: xlabel='nameOrig'>"
      ]
     },
     "execution_count": 46,
     "metadata": {},
     "output_type": "execute_result"
    },
    {
     "data": {
      "image/png": "[encoded data removed]",
      "text/plain": [
       "<Figure size 640x480 with 1 Axes>"
      ]
     },
     "metadata": {},
     "output_type": "display_data"
    }
   ],
   "source": [
    "sns.boxplot(x=data['nameOrig'])"
   ]
  },
  {
   "cell_type": "code",
   "execution_count": 47,
   "id": "34854832-483d-4797-aee1-30c5b124cd91",
   "metadata": {},
   "outputs": [
    {
     "data": {
      "text/plain": [
       "<Axes: xlabel='newbalanceOrig', ylabel='Density'>"
      ]
     },
     "execution_count": 47,
     "metadata": {},
     "output_type": "execute_result"
    },
    {
     "data": {
      "image/png": "[encoded data removed]",
      "text/plain": [
       "<Figure size 1000x500 with 2 Axes>"
      ]
     },
     "metadata": {},
     "output_type": "display_data"
    }
   ],
   "source": [
    "plt.figure(figsize=(10,5))\n",
    "\n",
    "plt.subplot(1,2,1)\n",
    "sns.distplot(df['oldbalanceOrg'])\n",
    "\n",
    "plt.subplot(1,2,2)\n",
    "sns.distplot(df['newbalanceOrig'])\n"
   ]
  },
  {
   "cell_type": "code",
   "execution_count": 48,
   "id": "8f70691f-713c-4646-ad98-0c60b01cc426",
   "metadata": {},
   "outputs": [
    {
     "data": {
      "text/plain": [
       "<Axes: xlabel='oldbalanceOrg'>"
      ]
     },
     "execution_count": 48,
     "metadata": {},
     "output_type": "execute_result"
    },
    {
     "data": {
      "image/png": "[encoded data removed]",
      "text/plain": [
       "<Figure size 640x480 with 1 Axes>"
      ]
     },
     "metadata": {},
     "output_type": "display_data"
    }
   ],
   "source": [
    "sns.boxplot(x=data['oldbalanceOrg'])"
   ]
  },
  {
   "cell_type": "code",
   "execution_count": 49,
   "id": "73cb9136-30f9-4946-83c6-d790da9bac8f",
   "metadata": {},
   "outputs": [],
   "source": [
    "# Finding the IQR\n",
    "percentile25 = data['oldbalanceOrg'].quantile(0.25)\n",
    "percentile75 = data['oldbalanceOrg'].quantile(0.75)"
   ]
  },
  {
   "cell_type": "code",
   "execution_count": 50,
   "id": "9c7f86e0-db50-4a55-9010-f0094a353bb5",
   "metadata": {},
   "outputs": [],
   "source": [
    "iqr = percentile75 - percentile25"
   ]
  },
  {
   "cell_type": "code",
   "execution_count": 51,
   "id": "72a5ccae-ca9c-4403-829f-d4fd67d1e810",
   "metadata": {},
   "outputs": [
    {
     "data": {
      "text/plain": [
       "107315.175"
      ]
     },
     "execution_count": 51,
     "metadata": {},
     "output_type": "execute_result"
    }
   ],
   "source": [
    "iqr"
   ]
  },
  {
   "cell_type": "code",
   "execution_count": 52,
   "id": "7eaf9fad-a097-40a9-a847-6952d6740592",
   "metadata": {},
   "outputs": [],
   "source": [
    "upper_limit = percentile75 + 1.5 * iqr\n",
    "lower_limit = percentile25 - 1.5 * iqr"
   ]
  },
  {
   "cell_type": "code",
   "execution_count": 53,
   "id": "4a7bf088-ecd4-42fd-b6ad-263af2b239f8",
   "metadata": {},
   "outputs": [
    {
     "name": "stdout",
     "output_type": "stream",
     "text": [
      "Upper limit 268287.9375\n",
      "Lower limit -160972.7625\n"
     ]
    }
   ],
   "source": [
    "print(\"Upper limit\",upper_limit)\n",
    "print(\"Lower limit\",lower_limit)"
   ]
  },
  {
   "cell_type": "code",
   "execution_count": 54,
   "id": "2798249f-d2d9-4b4f-a8a2-360111a881eb",
   "metadata": {},
   "outputs": [
    {
     "data": {
      "text/html": [
       "<div>\n",
       "<style scoped>\n",
       "    .dataframe tbody tr th:only-of-type {\n",
       "        vertical-align: middle;\n",
       "    }\n",
       "\n",
       "    .dataframe tbody tr th {\n",
       "        vertical-align: top;\n",
       "    }\n",
       "\n",
       "    .dataframe thead th {\n",
       "        text-align: right;\n",
       "    }\n",
       "</style>\n",
       "<table border=\"1\" class=\"dataframe\">\n",
       "  <thead>\n",
       "    <tr style=\"text-align: right;\">\n",
       "      <th></th>\n",
       "      <th>step</th>\n",
       "      <th>type</th>\n",
       "      <th>amount</th>\n",
       "      <th>nameOrig</th>\n",
       "      <th>oldbalanceOrg</th>\n",
       "      <th>newbalanceOrig</th>\n",
       "      <th>nameDest</th>\n",
       "      <th>oldbalanceDest</th>\n",
       "      <th>newbalanceDest</th>\n",
       "      <th>isFlaggedFraud</th>\n",
       "    </tr>\n",
       "  </thead>\n",
       "  <tbody>\n",
       "    <tr>\n",
       "      <th>14</th>\n",
       "      <td>1.000000</td>\n",
       "      <td>3</td>\n",
       "      <td>4098.78000</td>\n",
       "      <td>87083</td>\n",
       "      <td>503264.00</td>\n",
       "      <td>499165.22</td>\n",
       "      <td>1279605</td>\n",
       "      <td>0.00</td>\n",
       "      <td>0.00</td>\n",
       "      <td>0</td>\n",
       "    </tr>\n",
       "    <tr>\n",
       "      <th>37</th>\n",
       "      <td>1.000000</td>\n",
       "      <td>3</td>\n",
       "      <td>2791.42000</td>\n",
       "      <td>6101489</td>\n",
       "      <td>300481.00</td>\n",
       "      <td>297689.58</td>\n",
       "      <td>660929</td>\n",
       "      <td>0.00</td>\n",
       "      <td>0.00</td>\n",
       "      <td>0</td>\n",
       "    </tr>\n",
       "    <tr>\n",
       "      <th>38</th>\n",
       "      <td>1.000000</td>\n",
       "      <td>3</td>\n",
       "      <td>7413.54000</td>\n",
       "      <td>1546053</td>\n",
       "      <td>297689.58</td>\n",
       "      <td>290276.03</td>\n",
       "      <td>1046737</td>\n",
       "      <td>0.00</td>\n",
       "      <td>0.00</td>\n",
       "      <td>0</td>\n",
       "    </tr>\n",
       "    <tr>\n",
       "      <th>62</th>\n",
       "      <td>1.000000</td>\n",
       "      <td>2</td>\n",
       "      <td>8727.74000</td>\n",
       "      <td>2190286</td>\n",
       "      <td>882770.00</td>\n",
       "      <td>874042.26</td>\n",
       "      <td>38279</td>\n",
       "      <td>12636.00</td>\n",
       "      <td>0.00</td>\n",
       "      <td>0</td>\n",
       "    </tr>\n",
       "    <tr>\n",
       "      <th>63</th>\n",
       "      <td>1.000000</td>\n",
       "      <td>3</td>\n",
       "      <td>2599.46000</td>\n",
       "      <td>5978572</td>\n",
       "      <td>874042.26</td>\n",
       "      <td>871442.79</td>\n",
       "      <td>1529849</td>\n",
       "      <td>0.00</td>\n",
       "      <td>0.00</td>\n",
       "      <td>0</td>\n",
       "    </tr>\n",
       "    <tr>\n",
       "      <th>...</th>\n",
       "      <td>...</td>\n",
       "      <td>...</td>\n",
       "      <td>...</td>\n",
       "      <td>...</td>\n",
       "      <td>...</td>\n",
       "      <td>...</td>\n",
       "      <td>...</td>\n",
       "      <td>...</td>\n",
       "      <td>...</td>\n",
       "      <td>...</td>\n",
       "    </tr>\n",
       "    <tr>\n",
       "      <th>6362615</th>\n",
       "      <td>670.393159</td>\n",
       "      <td>1</td>\n",
       "      <td>339682.13000</td>\n",
       "      <td>5651847</td>\n",
       "      <td>339682.13</td>\n",
       "      <td>0.00</td>\n",
       "      <td>505863</td>\n",
       "      <td>0.00</td>\n",
       "      <td>339682.13</td>\n",
       "      <td>0</td>\n",
       "    </tr>\n",
       "    <tr>\n",
       "      <th>6362616</th>\n",
       "      <td>670.393159</td>\n",
       "      <td>4</td>\n",
       "      <td>501719.33875</td>\n",
       "      <td>1737278</td>\n",
       "      <td>6311409.28</td>\n",
       "      <td>0.00</td>\n",
       "      <td>260949</td>\n",
       "      <td>0.00</td>\n",
       "      <td>0.00</td>\n",
       "      <td>0</td>\n",
       "    </tr>\n",
       "    <tr>\n",
       "      <th>6362617</th>\n",
       "      <td>670.393159</td>\n",
       "      <td>1</td>\n",
       "      <td>501719.33875</td>\n",
       "      <td>533958</td>\n",
       "      <td>6311409.28</td>\n",
       "      <td>0.00</td>\n",
       "      <td>108224</td>\n",
       "      <td>68488.84</td>\n",
       "      <td>6379898.11</td>\n",
       "      <td>0</td>\n",
       "    </tr>\n",
       "    <tr>\n",
       "      <th>6362618</th>\n",
       "      <td>670.393159</td>\n",
       "      <td>4</td>\n",
       "      <td>501719.33875</td>\n",
       "      <td>2252932</td>\n",
       "      <td>850002.52</td>\n",
       "      <td>0.00</td>\n",
       "      <td>319713</td>\n",
       "      <td>0.00</td>\n",
       "      <td>0.00</td>\n",
       "      <td>0</td>\n",
       "    </tr>\n",
       "    <tr>\n",
       "      <th>6362619</th>\n",
       "      <td>670.393159</td>\n",
       "      <td>1</td>\n",
       "      <td>501719.33875</td>\n",
       "      <td>919229</td>\n",
       "      <td>850002.52</td>\n",
       "      <td>0.00</td>\n",
       "      <td>534595</td>\n",
       "      <td>6510099.11</td>\n",
       "      <td>7360101.63</td>\n",
       "      <td>0</td>\n",
       "    </tr>\n",
       "  </tbody>\n",
       "</table>\n",
       "<p>1112507 rows × 10 columns</p>\n",
       "</div>"
      ],
      "text/plain": [
       "               step  type        amount  nameOrig  oldbalanceOrg  \\\n",
       "14         1.000000     3    4098.78000     87083      503264.00   \n",
       "37         1.000000     3    2791.42000   6101489      300481.00   \n",
       "38         1.000000     3    7413.54000   1546053      297689.58   \n",
       "62         1.000000     2    8727.74000   2190286      882770.00   \n",
       "63         1.000000     3    2599.46000   5978572      874042.26   \n",
       "...             ...   ...           ...       ...            ...   \n",
       "6362615  670.393159     1  339682.13000   5651847      339682.13   \n",
       "6362616  670.393159     4  501719.33875   1737278     6311409.28   \n",
       "6362617  670.393159     1  501719.33875    533958     6311409.28   \n",
       "6362618  670.393159     4  501719.33875   2252932      850002.52   \n",
       "6362619  670.393159     1  501719.33875    919229      850002.52   \n",
       "\n",
       "         newbalanceOrig  nameDest  oldbalanceDest  newbalanceDest  \\\n",
       "14            499165.22   1279605            0.00            0.00   \n",
       "37            297689.58    660929            0.00            0.00   \n",
       "38            290276.03   1046737            0.00            0.00   \n",
       "62            874042.26     38279        12636.00            0.00   \n",
       "63            871442.79   1529849            0.00            0.00   \n",
       "...                 ...       ...             ...             ...   \n",
       "6362615            0.00    505863            0.00       339682.13   \n",
       "6362616            0.00    260949            0.00            0.00   \n",
       "6362617            0.00    108224        68488.84      6379898.11   \n",
       "6362618            0.00    319713            0.00            0.00   \n",
       "6362619            0.00    534595      6510099.11      7360101.63   \n",
       "\n",
       "         isFlaggedFraud  \n",
       "14                    0  \n",
       "37                    0  \n",
       "38                    0  \n",
       "62                    0  \n",
       "63                    0  \n",
       "...                 ...  \n",
       "6362615               0  \n",
       "6362616               0  \n",
       "6362617               0  \n",
       "6362618               0  \n",
       "6362619               0  \n",
       "\n",
       "[1112507 rows x 10 columns]"
      ]
     },
     "execution_count": 54,
     "metadata": {},
     "output_type": "execute_result"
    }
   ],
   "source": [
    "# Finding the outliers\n",
    "data[(data['oldbalanceOrg'] >  268287.9375) | (data['oldbalanceOrg'] < -160972.7625)]"
   ]
  },
  {
   "cell_type": "code",
   "execution_count": 55,
   "id": "697674e2-6861-4db6-b380-69dd86cb86e9",
   "metadata": {},
   "outputs": [],
   "source": [
    "#Capping\n",
    "\n",
    "data['oldbalanceOrg'] = np.where(\n",
    "    data['oldbalanceOrg']>upper_limit,\n",
    "    upper_limit,\n",
    "    np.where(\n",
    "        data['oldbalanceOrg']<lower_limit,\n",
    "        lower_limit,\n",
    "        data['oldbalanceOrg']\n",
    "    )\n",
    ")"
   ]
  },
  {
   "cell_type": "raw",
   "id": "c80e0366-a428-4a20-b440-cd9724c24a0d",
   "metadata": {},
   "source": [
    "Outliers removed from 'oldbalanceOrg' col"
   ]
  },
  {
   "cell_type": "code",
   "execution_count": 56,
   "id": "7b72ad43-d17c-4483-9ceb-5b2ee57bb9ba",
   "metadata": {},
   "outputs": [
    {
     "data": {
      "text/html": [
       "<div>\n",
       "<style scoped>\n",
       "    .dataframe tbody tr th:only-of-type {\n",
       "        vertical-align: middle;\n",
       "    }\n",
       "\n",
       "    .dataframe tbody tr th {\n",
       "        vertical-align: top;\n",
       "    }\n",
       "\n",
       "    .dataframe thead th {\n",
       "        text-align: right;\n",
       "    }\n",
       "</style>\n",
       "<table border=\"1\" class=\"dataframe\">\n",
       "  <thead>\n",
       "    <tr style=\"text-align: right;\">\n",
       "      <th></th>\n",
       "      <th>step</th>\n",
       "      <th>type</th>\n",
       "      <th>amount</th>\n",
       "      <th>nameOrig</th>\n",
       "      <th>oldbalanceOrg</th>\n",
       "      <th>newbalanceOrig</th>\n",
       "      <th>nameDest</th>\n",
       "      <th>oldbalanceDest</th>\n",
       "      <th>newbalanceDest</th>\n",
       "      <th>isFlaggedFraud</th>\n",
       "    </tr>\n",
       "  </thead>\n",
       "  <tbody>\n",
       "  </tbody>\n",
       "</table>\n",
       "</div>"
      ],
      "text/plain": [
       "Empty DataFrame\n",
       "Columns: [step, type, amount, nameOrig, oldbalanceOrg, newbalanceOrig, nameDest, oldbalanceDest, newbalanceDest, isFlaggedFraud]\n",
       "Index: []"
      ]
     },
     "execution_count": 56,
     "metadata": {},
     "output_type": "execute_result"
    }
   ],
   "source": [
    "data[(data['oldbalanceOrg'] >  268287.9375) | (data['oldbalanceOrg'] < -160972.7625)]"
   ]
  },
  {
   "cell_type": "code",
   "execution_count": 57,
   "id": "3b50faaf-a408-4094-b3f2-2eac4bd67085",
   "metadata": {},
   "outputs": [
    {
     "data": {
      "text/plain": [
       "<Axes: xlabel='newbalanceOrig'>"
      ]
     },
     "execution_count": 57,
     "metadata": {},
     "output_type": "execute_result"
    },
    {
     "data": {
      "image/png": "[encoded data removed]",
      "text/plain": [
       "<Figure size 640x480 with 1 Axes>"
      ]
     },
     "metadata": {},
     "output_type": "display_data"
    }
   ],
   "source": [
    "sns.boxplot(x=data['newbalanceOrig'])"
   ]
  },
  {
   "cell_type": "code",
   "execution_count": 58,
   "id": "5406a5aa-fd32-4036-b2ae-a10e2a4f85ef",
   "metadata": {},
   "outputs": [],
   "source": [
    "# Finding the IQR\n",
    "percentile25 = df['newbalanceOrig'].quantile(0.25)\n",
    "percentile75 = df['newbalanceOrig'].quantile(0.75)"
   ]
  },
  {
   "cell_type": "code",
   "execution_count": 59,
   "id": "2c79e210-5967-4377-af48-a31cc33cc3c1",
   "metadata": {},
   "outputs": [],
   "source": [
    "iqr = percentile75 - percentile25"
   ]
  },
  {
   "cell_type": "code",
   "execution_count": 60,
   "id": "4a4305e6-75b8-408d-befb-fbc31facb9dc",
   "metadata": {},
   "outputs": [
    {
     "data": {
      "text/plain": [
       "144258.41"
      ]
     },
     "execution_count": 60,
     "metadata": {},
     "output_type": "execute_result"
    }
   ],
   "source": [
    "iqr"
   ]
  },
  {
   "cell_type": "code",
   "execution_count": 61,
   "id": "a4aaf310-134a-4fd2-ba71-11dad17865a4",
   "metadata": {},
   "outputs": [],
   "source": [
    "upper_limit = percentile75 + 1.5 * iqr\n",
    "lower_limit = percentile25 - 1.5 * iqr"
   ]
  },
  {
   "cell_type": "code",
   "execution_count": 62,
   "id": "a9a9b10a-1885-4117-9fda-59cd874b023c",
   "metadata": {},
   "outputs": [
    {
     "name": "stdout",
     "output_type": "stream",
     "text": [
      "Upper limit 360646.025\n",
      "Lower limit -216387.615\n"
     ]
    }
   ],
   "source": [
    "print(\"Upper limit\",upper_limit)\n",
    "print(\"Lower limit\",lower_limit)"
   ]
  },
  {
   "cell_type": "code",
   "execution_count": 63,
   "id": "743e7d82-553c-4f9d-9b13-9ffda39ae133",
   "metadata": {},
   "outputs": [
    {
     "data": {
      "text/html": [
       "<div>\n",
       "<style scoped>\n",
       "    .dataframe tbody tr th:only-of-type {\n",
       "        vertical-align: middle;\n",
       "    }\n",
       "\n",
       "    .dataframe tbody tr th {\n",
       "        vertical-align: top;\n",
       "    }\n",
       "\n",
       "    .dataframe thead th {\n",
       "        text-align: right;\n",
       "    }\n",
       "</style>\n",
       "<table border=\"1\" class=\"dataframe\">\n",
       "  <thead>\n",
       "    <tr style=\"text-align: right;\">\n",
       "      <th></th>\n",
       "      <th>step</th>\n",
       "      <th>type</th>\n",
       "      <th>amount</th>\n",
       "      <th>nameOrig</th>\n",
       "      <th>oldbalanceOrg</th>\n",
       "      <th>newbalanceOrig</th>\n",
       "      <th>nameDest</th>\n",
       "      <th>oldbalanceDest</th>\n",
       "      <th>newbalanceDest</th>\n",
       "      <th>isFlaggedFraud</th>\n",
       "    </tr>\n",
       "  </thead>\n",
       "  <tbody>\n",
       "    <tr>\n",
       "      <th>14</th>\n",
       "      <td>1.000000</td>\n",
       "      <td>3</td>\n",
       "      <td>4098.78000</td>\n",
       "      <td>87083</td>\n",
       "      <td>268287.9375</td>\n",
       "      <td>499165.22</td>\n",
       "      <td>1279605</td>\n",
       "      <td>0.0</td>\n",
       "      <td>0.0</td>\n",
       "      <td>0</td>\n",
       "    </tr>\n",
       "    <tr>\n",
       "      <th>62</th>\n",
       "      <td>1.000000</td>\n",
       "      <td>2</td>\n",
       "      <td>8727.74000</td>\n",
       "      <td>2190286</td>\n",
       "      <td>268287.9375</td>\n",
       "      <td>874042.26</td>\n",
       "      <td>38279</td>\n",
       "      <td>12636.0</td>\n",
       "      <td>0.0</td>\n",
       "      <td>0</td>\n",
       "    </tr>\n",
       "    <tr>\n",
       "      <th>63</th>\n",
       "      <td>1.000000</td>\n",
       "      <td>3</td>\n",
       "      <td>2599.46000</td>\n",
       "      <td>5978572</td>\n",
       "      <td>268287.9375</td>\n",
       "      <td>871442.79</td>\n",
       "      <td>1529849</td>\n",
       "      <td>0.0</td>\n",
       "      <td>0.0</td>\n",
       "      <td>0</td>\n",
       "    </tr>\n",
       "    <tr>\n",
       "      <th>241</th>\n",
       "      <td>1.000000</td>\n",
       "      <td>3</td>\n",
       "      <td>4635.18000</td>\n",
       "      <td>362725</td>\n",
       "      <td>268287.9375</td>\n",
       "      <td>6309146.87</td>\n",
       "      <td>857621</td>\n",
       "      <td>0.0</td>\n",
       "      <td>0.0</td>\n",
       "      <td>0</td>\n",
       "    </tr>\n",
       "    <tr>\n",
       "      <th>242</th>\n",
       "      <td>1.000000</td>\n",
       "      <td>3</td>\n",
       "      <td>1267.97000</td>\n",
       "      <td>175655</td>\n",
       "      <td>268287.9375</td>\n",
       "      <td>6307878.90</td>\n",
       "      <td>1120920</td>\n",
       "      <td>0.0</td>\n",
       "      <td>0.0</td>\n",
       "      <td>0</td>\n",
       "    </tr>\n",
       "    <tr>\n",
       "      <th>...</th>\n",
       "      <td>...</td>\n",
       "      <td>...</td>\n",
       "      <td>...</td>\n",
       "      <td>...</td>\n",
       "      <td>...</td>\n",
       "      <td>...</td>\n",
       "      <td>...</td>\n",
       "      <td>...</td>\n",
       "      <td>...</td>\n",
       "      <td>...</td>\n",
       "    </tr>\n",
       "    <tr>\n",
       "      <th>6362576</th>\n",
       "      <td>670.393159</td>\n",
       "      <td>4</td>\n",
       "      <td>501719.33875</td>\n",
       "      <td>5632760</td>\n",
       "      <td>268287.9375</td>\n",
       "      <td>35674547.89</td>\n",
       "      <td>421572</td>\n",
       "      <td>0.0</td>\n",
       "      <td>0.0</td>\n",
       "      <td>0</td>\n",
       "    </tr>\n",
       "    <tr>\n",
       "      <th>6362578</th>\n",
       "      <td>670.393159</td>\n",
       "      <td>4</td>\n",
       "      <td>501719.33875</td>\n",
       "      <td>366072</td>\n",
       "      <td>268287.9375</td>\n",
       "      <td>25674547.89</td>\n",
       "      <td>556973</td>\n",
       "      <td>0.0</td>\n",
       "      <td>0.0</td>\n",
       "      <td>0</td>\n",
       "    </tr>\n",
       "    <tr>\n",
       "      <th>6362580</th>\n",
       "      <td>670.393159</td>\n",
       "      <td>4</td>\n",
       "      <td>501719.33875</td>\n",
       "      <td>5986993</td>\n",
       "      <td>268287.9375</td>\n",
       "      <td>15674547.89</td>\n",
       "      <td>277944</td>\n",
       "      <td>0.0</td>\n",
       "      <td>0.0</td>\n",
       "      <td>0</td>\n",
       "    </tr>\n",
       "    <tr>\n",
       "      <th>6362582</th>\n",
       "      <td>670.393159</td>\n",
       "      <td>4</td>\n",
       "      <td>501719.33875</td>\n",
       "      <td>3106908</td>\n",
       "      <td>268287.9375</td>\n",
       "      <td>5674547.89</td>\n",
       "      <td>461035</td>\n",
       "      <td>0.0</td>\n",
       "      <td>0.0</td>\n",
       "      <td>0</td>\n",
       "    </tr>\n",
       "    <tr>\n",
       "      <th>6362584</th>\n",
       "      <td>670.393159</td>\n",
       "      <td>4</td>\n",
       "      <td>501719.33875</td>\n",
       "      <td>6327800</td>\n",
       "      <td>268287.9375</td>\n",
       "      <td>5674547.89</td>\n",
       "      <td>108710</td>\n",
       "      <td>0.0</td>\n",
       "      <td>0.0</td>\n",
       "      <td>1</td>\n",
       "    </tr>\n",
       "  </tbody>\n",
       "</table>\n",
       "<p>1053391 rows × 10 columns</p>\n",
       "</div>"
      ],
      "text/plain": [
       "               step  type        amount  nameOrig  oldbalanceOrg  \\\n",
       "14         1.000000     3    4098.78000     87083    268287.9375   \n",
       "62         1.000000     2    8727.74000   2190286    268287.9375   \n",
       "63         1.000000     3    2599.46000   5978572    268287.9375   \n",
       "241        1.000000     3    4635.18000    362725    268287.9375   \n",
       "242        1.000000     3    1267.97000    175655    268287.9375   \n",
       "...             ...   ...           ...       ...            ...   \n",
       "6362576  670.393159     4  501719.33875   5632760    268287.9375   \n",
       "6362578  670.393159     4  501719.33875    366072    268287.9375   \n",
       "6362580  670.393159     4  501719.33875   5986993    268287.9375   \n",
       "6362582  670.393159     4  501719.33875   3106908    268287.9375   \n",
       "6362584  670.393159     4  501719.33875   6327800    268287.9375   \n",
       "\n",
       "         newbalanceOrig  nameDest  oldbalanceDest  newbalanceDest  \\\n",
       "14            499165.22   1279605             0.0             0.0   \n",
       "62            874042.26     38279         12636.0             0.0   \n",
       "63            871442.79   1529849             0.0             0.0   \n",
       "241          6309146.87    857621             0.0             0.0   \n",
       "242          6307878.90   1120920             0.0             0.0   \n",
       "...                 ...       ...             ...             ...   \n",
       "6362576     35674547.89    421572             0.0             0.0   \n",
       "6362578     25674547.89    556973             0.0             0.0   \n",
       "6362580     15674547.89    277944             0.0             0.0   \n",
       "6362582      5674547.89    461035             0.0             0.0   \n",
       "6362584      5674547.89    108710             0.0             0.0   \n",
       "\n",
       "         isFlaggedFraud  \n",
       "14                    0  \n",
       "62                    0  \n",
       "63                    0  \n",
       "241                   0  \n",
       "242                   0  \n",
       "...                 ...  \n",
       "6362576               0  \n",
       "6362578               0  \n",
       "6362580               0  \n",
       "6362582               0  \n",
       "6362584               1  \n",
       "\n",
       "[1053391 rows x 10 columns]"
      ]
     },
     "execution_count": 63,
     "metadata": {},
     "output_type": "execute_result"
    }
   ],
   "source": [
    "# Finding the outliers\n",
    "data[(data['newbalanceOrig'] > 360646.025) | (data['newbalanceOrig'] < -216387.615)]"
   ]
  },
  {
   "cell_type": "code",
   "execution_count": 64,
   "id": "cfee0c05-ed84-4e13-9650-a83eae0aac33",
   "metadata": {},
   "outputs": [],
   "source": [
    "#Capping\n",
    "\n",
    "data['newbalanceOrig'] = np.where(\n",
    "    data['newbalanceOrig']>upper_limit,\n",
    "    upper_limit,\n",
    "    np.where(\n",
    "        data['newbalanceOrig']<lower_limit,\n",
    "        lower_limit,\n",
    "        data['newbalanceOrig']\n",
    "    )\n",
    ")"
   ]
  },
  {
   "cell_type": "raw",
   "id": "270c7028-e9f0-4b05-b3f7-c329eddca44f",
   "metadata": {},
   "source": [
    "Outliers removed from 'newbalanceOrig' col"
   ]
  },
  {
   "cell_type": "code",
   "execution_count": 65,
   "id": "b8cb5cef-a126-4f83-9b75-923a3c0d0cea",
   "metadata": {},
   "outputs": [
    {
     "data": {
      "text/html": [
       "<div>\n",
       "<style scoped>\n",
       "    .dataframe tbody tr th:only-of-type {\n",
       "        vertical-align: middle;\n",
       "    }\n",
       "\n",
       "    .dataframe tbody tr th {\n",
       "        vertical-align: top;\n",
       "    }\n",
       "\n",
       "    .dataframe thead th {\n",
       "        text-align: right;\n",
       "    }\n",
       "</style>\n",
       "<table border=\"1\" class=\"dataframe\">\n",
       "  <thead>\n",
       "    <tr style=\"text-align: right;\">\n",
       "      <th></th>\n",
       "      <th>step</th>\n",
       "      <th>type</th>\n",
       "      <th>amount</th>\n",
       "      <th>nameOrig</th>\n",
       "      <th>oldbalanceOrg</th>\n",
       "      <th>newbalanceOrig</th>\n",
       "      <th>nameDest</th>\n",
       "      <th>oldbalanceDest</th>\n",
       "      <th>newbalanceDest</th>\n",
       "      <th>isFlaggedFraud</th>\n",
       "    </tr>\n",
       "  </thead>\n",
       "  <tbody>\n",
       "  </tbody>\n",
       "</table>\n",
       "</div>"
      ],
      "text/plain": [
       "Empty DataFrame\n",
       "Columns: [step, type, amount, nameOrig, oldbalanceOrg, newbalanceOrig, nameDest, oldbalanceDest, newbalanceDest, isFlaggedFraud]\n",
       "Index: []"
      ]
     },
     "execution_count": 65,
     "metadata": {},
     "output_type": "execute_result"
    }
   ],
   "source": [
    "data[(data['newbalanceOrig'] > 360646.025) | (data['newbalanceOrig'] < -216387.615)]"
   ]
  },
  {
   "cell_type": "code",
   "execution_count": 66,
   "id": "9d397b40-a10e-46e5-8ef5-3808fb2ae60c",
   "metadata": {},
   "outputs": [
    {
     "data": {
      "text/plain": [
       "<Axes: xlabel='newbalanceOrig'>"
      ]
     },
     "execution_count": 66,
     "metadata": {},
     "output_type": "execute_result"
    },
    {
     "data": {
      "image/png": "[encoded data removed]",
      "text/plain": [
       "<Figure size 640x480 with 1 Axes>"
      ]
     },
     "metadata": {},
     "output_type": "display_data"
    }
   ],
   "source": [
    "sns.boxplot(x=data['newbalanceOrig'])"
   ]
  },
  {
   "cell_type": "code",
   "execution_count": 67,
   "id": "2c495da5-a623-4e7f-949c-4555ebb67cc8",
   "metadata": {},
   "outputs": [
    {
     "data": {
      "text/plain": [
       "<Axes: xlabel='oldbalanceDest', ylabel='Density'>"
      ]
     },
     "execution_count": 67,
     "metadata": {},
     "output_type": "execute_result"
    },
    {
     "data": {
      "image/png": "[encoded data removed]",
      "text/plain": [
       "<Figure size 1000x500 with 2 Axes>"
      ]
     },
     "metadata": {},
     "output_type": "display_data"
    }
   ],
   "source": [
    "plt.figure(figsize=(10,5))\n",
    "\n",
    "plt.subplot(1,2,1)\n",
    "sns.distplot(df['nameDest'])\n",
    "\n",
    "plt.subplot(1,2,2)\n",
    "sns.distplot(df['oldbalanceDest'])\n"
   ]
  },
  {
   "cell_type": "code",
   "execution_count": 68,
   "id": "0b988293-02e9-4d1e-a4d8-305779e765ed",
   "metadata": {},
   "outputs": [
    {
     "data": {
      "text/plain": [
       "<Axes: xlabel='nameDest'>"
      ]
     },
     "execution_count": 68,
     "metadata": {},
     "output_type": "execute_result"
    },
    {
     "data": {
      "image/png": "[encoded data removed]",
      "text/plain": [
       "<Figure size 640x480 with 1 Axes>"
      ]
     },
     "metadata": {},
     "output_type": "display_data"
    }
   ],
   "source": [
    "sns.boxplot(x=df['nameDest'])"
   ]
  },
  {
   "cell_type": "code",
   "execution_count": 69,
   "id": "0cec4279-9883-4537-9bab-55cf7e76f9ce",
   "metadata": {},
   "outputs": [],
   "source": [
    "# Finding the IQR\n",
    "percentile25 = df['nameDest'].quantile(0.25)\n",
    "percentile75 = df['nameDest'].quantile(0.75)"
   ]
  },
  {
   "cell_type": "code",
   "execution_count": 70,
   "id": "cabb8288-1997-4423-8b9a-91c04b98de37",
   "metadata": {},
   "outputs": [],
   "source": [
    "iqr = percentile75 - percentile25"
   ]
  },
  {
   "cell_type": "code",
   "execution_count": 71,
   "id": "e34e430f-a412-47fc-bf85-8ca6d1e64b2f",
   "metadata": {},
   "outputs": [
    {
     "data": {
      "text/plain": [
       "915614.25"
      ]
     },
     "execution_count": 71,
     "metadata": {},
     "output_type": "execute_result"
    }
   ],
   "source": [
    "iqr"
   ]
  },
  {
   "cell_type": "code",
   "execution_count": 72,
   "id": "15f00105-62a0-4157-a8af-b5eaad24b762",
   "metadata": {},
   "outputs": [],
   "source": [
    "upper_limit = percentile75 + 1.5 * iqr\n",
    "lower_limit = percentile25 - 1.5 * iqr"
   ]
  },
  {
   "cell_type": "code",
   "execution_count": 73,
   "id": "264771c7-3a75-4b01-9f85-510133362053",
   "metadata": {},
   "outputs": [
    {
     "name": "stdout",
     "output_type": "stream",
     "text": [
      "Upper limit 2505930.625\n",
      "Lower limit -1156526.375\n"
     ]
    }
   ],
   "source": [
    "print(\"Upper limit\",upper_limit)\n",
    "print(\"Lower limit\",lower_limit)"
   ]
  },
  {
   "cell_type": "code",
   "execution_count": 74,
   "id": "c9340ed6-e8a0-46d9-a9d6-cd5d179d6398",
   "metadata": {},
   "outputs": [
    {
     "data": {
      "text/html": [
       "<div>\n",
       "<style scoped>\n",
       "    .dataframe tbody tr th:only-of-type {\n",
       "        vertical-align: middle;\n",
       "    }\n",
       "\n",
       "    .dataframe tbody tr th {\n",
       "        vertical-align: top;\n",
       "    }\n",
       "\n",
       "    .dataframe thead th {\n",
       "        text-align: right;\n",
       "    }\n",
       "</style>\n",
       "<table border=\"1\" class=\"dataframe\">\n",
       "  <thead>\n",
       "    <tr style=\"text-align: right;\">\n",
       "      <th></th>\n",
       "      <th>step</th>\n",
       "      <th>type</th>\n",
       "      <th>amount</th>\n",
       "      <th>nameOrig</th>\n",
       "      <th>oldbalanceOrg</th>\n",
       "      <th>newbalanceOrig</th>\n",
       "      <th>nameDest</th>\n",
       "      <th>oldbalanceDest</th>\n",
       "      <th>newbalanceDest</th>\n",
       "      <th>isFlaggedFraud</th>\n",
       "    </tr>\n",
       "  </thead>\n",
       "  <tbody>\n",
       "    <tr>\n",
       "      <th>12</th>\n",
       "      <td>1.000000</td>\n",
       "      <td>3</td>\n",
       "      <td>2560.74</td>\n",
       "      <td>2129034</td>\n",
       "      <td>5070.0</td>\n",
       "      <td>2509.26</td>\n",
       "      <td>2692147</td>\n",
       "      <td>0.0</td>\n",
       "      <td>0.0</td>\n",
       "      <td>0</td>\n",
       "    </tr>\n",
       "    <tr>\n",
       "      <th>52</th>\n",
       "      <td>1.000000</td>\n",
       "      <td>3</td>\n",
       "      <td>2330.64</td>\n",
       "      <td>5752204</td>\n",
       "      <td>203543.0</td>\n",
       "      <td>201212.36</td>\n",
       "      <td>2620934</td>\n",
       "      <td>0.0</td>\n",
       "      <td>0.0</td>\n",
       "      <td>0</td>\n",
       "    </tr>\n",
       "    <tr>\n",
       "      <th>100</th>\n",
       "      <td>1.000000</td>\n",
       "      <td>3</td>\n",
       "      <td>871.75</td>\n",
       "      <td>10660</td>\n",
       "      <td>19869.0</td>\n",
       "      <td>18997.25</td>\n",
       "      <td>2711062</td>\n",
       "      <td>0.0</td>\n",
       "      <td>0.0</td>\n",
       "      <td>0</td>\n",
       "    </tr>\n",
       "    <tr>\n",
       "      <th>101</th>\n",
       "      <td>1.000000</td>\n",
       "      <td>3</td>\n",
       "      <td>1035.36</td>\n",
       "      <td>5718861</td>\n",
       "      <td>71636.0</td>\n",
       "      <td>70600.64</td>\n",
       "      <td>2613886</td>\n",
       "      <td>0.0</td>\n",
       "      <td>0.0</td>\n",
       "      <td>0</td>\n",
       "    </tr>\n",
       "    <tr>\n",
       "      <th>237</th>\n",
       "      <td>1.000000</td>\n",
       "      <td>3</td>\n",
       "      <td>3608.41</td>\n",
       "      <td>5154883</td>\n",
       "      <td>11150.0</td>\n",
       "      <td>7541.59</td>\n",
       "      <td>2615430</td>\n",
       "      <td>0.0</td>\n",
       "      <td>0.0</td>\n",
       "      <td>0</td>\n",
       "    </tr>\n",
       "    <tr>\n",
       "      <th>...</th>\n",
       "      <td>...</td>\n",
       "      <td>...</td>\n",
       "      <td>...</td>\n",
       "      <td>...</td>\n",
       "      <td>...</td>\n",
       "      <td>...</td>\n",
       "      <td>...</td>\n",
       "      <td>...</td>\n",
       "      <td>...</td>\n",
       "      <td>...</td>\n",
       "    </tr>\n",
       "    <tr>\n",
       "      <th>6362218</th>\n",
       "      <td>670.393159</td>\n",
       "      <td>3</td>\n",
       "      <td>2989.88</td>\n",
       "      <td>278508</td>\n",
       "      <td>27490.0</td>\n",
       "      <td>24500.12</td>\n",
       "      <td>2678858</td>\n",
       "      <td>0.0</td>\n",
       "      <td>0.0</td>\n",
       "      <td>0</td>\n",
       "    </tr>\n",
       "    <tr>\n",
       "      <th>6362237</th>\n",
       "      <td>670.393159</td>\n",
       "      <td>3</td>\n",
       "      <td>8034.53</td>\n",
       "      <td>2333927</td>\n",
       "      <td>33309.0</td>\n",
       "      <td>25274.47</td>\n",
       "      <td>2635510</td>\n",
       "      <td>0.0</td>\n",
       "      <td>0.0</td>\n",
       "      <td>0</td>\n",
       "    </tr>\n",
       "    <tr>\n",
       "      <th>6362244</th>\n",
       "      <td>670.393159</td>\n",
       "      <td>3</td>\n",
       "      <td>3346.02</td>\n",
       "      <td>378179</td>\n",
       "      <td>9.0</td>\n",
       "      <td>0.00</td>\n",
       "      <td>2537526</td>\n",
       "      <td>0.0</td>\n",
       "      <td>0.0</td>\n",
       "      <td>0</td>\n",
       "    </tr>\n",
       "    <tr>\n",
       "      <th>6362278</th>\n",
       "      <td>670.393159</td>\n",
       "      <td>3</td>\n",
       "      <td>9178.47</td>\n",
       "      <td>339134</td>\n",
       "      <td>258.0</td>\n",
       "      <td>0.00</td>\n",
       "      <td>2674771</td>\n",
       "      <td>0.0</td>\n",
       "      <td>0.0</td>\n",
       "      <td>0</td>\n",
       "    </tr>\n",
       "    <tr>\n",
       "      <th>6362283</th>\n",
       "      <td>670.393159</td>\n",
       "      <td>3</td>\n",
       "      <td>10451.59</td>\n",
       "      <td>47642</td>\n",
       "      <td>51665.0</td>\n",
       "      <td>41213.41</td>\n",
       "      <td>2647421</td>\n",
       "      <td>0.0</td>\n",
       "      <td>0.0</td>\n",
       "      <td>0</td>\n",
       "    </tr>\n",
       "  </tbody>\n",
       "</table>\n",
       "<p>216553 rows × 10 columns</p>\n",
       "</div>"
      ],
      "text/plain": [
       "               step  type    amount  nameOrig  oldbalanceOrg  newbalanceOrig  \\\n",
       "12         1.000000     3   2560.74   2129034         5070.0         2509.26   \n",
       "52         1.000000     3   2330.64   5752204       203543.0       201212.36   \n",
       "100        1.000000     3    871.75     10660        19869.0        18997.25   \n",
       "101        1.000000     3   1035.36   5718861        71636.0        70600.64   \n",
       "237        1.000000     3   3608.41   5154883        11150.0         7541.59   \n",
       "...             ...   ...       ...       ...            ...             ...   \n",
       "6362218  670.393159     3   2989.88    278508        27490.0        24500.12   \n",
       "6362237  670.393159     3   8034.53   2333927        33309.0        25274.47   \n",
       "6362244  670.393159     3   3346.02    378179            9.0            0.00   \n",
       "6362278  670.393159     3   9178.47    339134          258.0            0.00   \n",
       "6362283  670.393159     3  10451.59     47642        51665.0        41213.41   \n",
       "\n",
       "         nameDest  oldbalanceDest  newbalanceDest  isFlaggedFraud  \n",
       "12        2692147             0.0             0.0               0  \n",
       "52        2620934             0.0             0.0               0  \n",
       "100       2711062             0.0             0.0               0  \n",
       "101       2613886             0.0             0.0               0  \n",
       "237       2615430             0.0             0.0               0  \n",
       "...           ...             ...             ...             ...  \n",
       "6362218   2678858             0.0             0.0               0  \n",
       "6362237   2635510             0.0             0.0               0  \n",
       "6362244   2537526             0.0             0.0               0  \n",
       "6362278   2674771             0.0             0.0               0  \n",
       "6362283   2647421             0.0             0.0               0  \n",
       "\n",
       "[216553 rows x 10 columns]"
      ]
     },
     "execution_count": 74,
     "metadata": {},
     "output_type": "execute_result"
    }
   ],
   "source": [
    "# Finding the outliers\n",
    "data[(data['nameDest'] > 2505930.625) | (data['nameDest'] < -1156526.375)]"
   ]
  },
  {
   "cell_type": "code",
   "execution_count": 75,
   "id": "81a6cb0b-ac11-4eb1-b14f-7b9c23b96006",
   "metadata": {},
   "outputs": [],
   "source": [
    "#Capping\n",
    "\n",
    "data['nameDest'] = np.where(\n",
    "    data['nameDest']>upper_limit,\n",
    "    upper_limit,\n",
    "    np.where(\n",
    "        data['nameDest']<lower_limit,\n",
    "        lower_limit,\n",
    "        data['nameDest']\n",
    "    )\n",
    ")"
   ]
  },
  {
   "cell_type": "raw",
   "id": "96bef6d9-b63a-43a2-8c65-d38df3293c22",
   "metadata": {},
   "source": [
    "Outliers removed from 'nameDest' col"
   ]
  },
  {
   "cell_type": "code",
   "execution_count": 76,
   "id": "b0f87118-3eab-4c5b-b70f-0a63d2263054",
   "metadata": {
    "scrolled": true
   },
   "outputs": [
    {
     "data": {
      "text/html": [
       "<div>\n",
       "<style scoped>\n",
       "    .dataframe tbody tr th:only-of-type {\n",
       "        vertical-align: middle;\n",
       "    }\n",
       "\n",
       "    .dataframe tbody tr th {\n",
       "        vertical-align: top;\n",
       "    }\n",
       "\n",
       "    .dataframe thead th {\n",
       "        text-align: right;\n",
       "    }\n",
       "</style>\n",
       "<table border=\"1\" class=\"dataframe\">\n",
       "  <thead>\n",
       "    <tr style=\"text-align: right;\">\n",
       "      <th></th>\n",
       "      <th>step</th>\n",
       "      <th>type</th>\n",
       "      <th>amount</th>\n",
       "      <th>nameOrig</th>\n",
       "      <th>oldbalanceOrg</th>\n",
       "      <th>newbalanceOrig</th>\n",
       "      <th>nameDest</th>\n",
       "      <th>oldbalanceDest</th>\n",
       "      <th>newbalanceDest</th>\n",
       "      <th>isFlaggedFraud</th>\n",
       "    </tr>\n",
       "  </thead>\n",
       "  <tbody>\n",
       "  </tbody>\n",
       "</table>\n",
       "</div>"
      ],
      "text/plain": [
       "Empty DataFrame\n",
       "Columns: [step, type, amount, nameOrig, oldbalanceOrg, newbalanceOrig, nameDest, oldbalanceDest, newbalanceDest, isFlaggedFraud]\n",
       "Index: []"
      ]
     },
     "execution_count": 76,
     "metadata": {},
     "output_type": "execute_result"
    }
   ],
   "source": [
    "data[(data['nameDest'] > 2505930.625) | (data['nameDest'] < -1156526.375)]"
   ]
  },
  {
   "cell_type": "code",
   "execution_count": 77,
   "id": "5429e5fa-8686-434d-b296-51e260620ee4",
   "metadata": {},
   "outputs": [
    {
     "data": {
      "text/plain": [
       "<Axes: xlabel='oldbalanceDest'>"
      ]
     },
     "execution_count": 77,
     "metadata": {},
     "output_type": "execute_result"
    },
    {
     "data": {
      "image/png": "[encoded data removed]",
      "text/plain": [
       "<Figure size 640x480 with 1 Axes>"
      ]
     },
     "metadata": {},
     "output_type": "display_data"
    }
   ],
   "source": [
    "sns.boxplot(x=df['oldbalanceDest'])"
   ]
  },
  {
   "cell_type": "code",
   "execution_count": 78,
   "id": "53ab6fd8-fa68-412a-aa8b-84c8c9267807",
   "metadata": {},
   "outputs": [],
   "source": [
    "# Finding the IQR\n",
    "percentile25 = df['oldbalanceDest'].quantile(0.25)\n",
    "percentile75 = df['oldbalanceDest'].quantile(0.75)"
   ]
  },
  {
   "cell_type": "code",
   "execution_count": 79,
   "id": "86e515c5-3368-442a-9ba3-2b0f342be743",
   "metadata": {},
   "outputs": [],
   "source": [
    "iqr = percentile75 - percentile25"
   ]
  },
  {
   "cell_type": "code",
   "execution_count": 80,
   "id": "0e55d351-88bc-4d82-b358-04d8fff89ac1",
   "metadata": {},
   "outputs": [
    {
     "data": {
      "text/plain": [
       "943036.7075"
      ]
     },
     "execution_count": 80,
     "metadata": {},
     "output_type": "execute_result"
    }
   ],
   "source": [
    "iqr"
   ]
  },
  {
   "cell_type": "code",
   "execution_count": 81,
   "id": "c72ae677-6813-4b47-883f-f2260dc3cb67",
   "metadata": {},
   "outputs": [],
   "source": [
    "upper_limit = percentile75 + 1.5 * iqr\n",
    "lower_limit = percentile25 - 1.5 * iqr"
   ]
  },
  {
   "cell_type": "code",
   "execution_count": 82,
   "id": "503c51fd-097e-44e0-a7d1-a2ab5aaf6e07",
   "metadata": {},
   "outputs": [
    {
     "name": "stdout",
     "output_type": "stream",
     "text": [
      "Upper limit 2357591.76875\n",
      "Lower limit -1414555.06125\n"
     ]
    }
   ],
   "source": [
    "print(\"Upper limit\",upper_limit)\n",
    "print(\"Lower limit\",lower_limit)"
   ]
  },
  {
   "cell_type": "code",
   "execution_count": 83,
   "id": "3edb5bf5-12d7-453b-9426-97819f13f14a",
   "metadata": {},
   "outputs": [
    {
     "data": {
      "text/html": [
       "<div>\n",
       "<style scoped>\n",
       "    .dataframe tbody tr th:only-of-type {\n",
       "        vertical-align: middle;\n",
       "    }\n",
       "\n",
       "    .dataframe tbody tr th {\n",
       "        vertical-align: top;\n",
       "    }\n",
       "\n",
       "    .dataframe thead th {\n",
       "        text-align: right;\n",
       "    }\n",
       "</style>\n",
       "<table border=\"1\" class=\"dataframe\">\n",
       "  <thead>\n",
       "    <tr style=\"text-align: right;\">\n",
       "      <th></th>\n",
       "      <th>step</th>\n",
       "      <th>type</th>\n",
       "      <th>amount</th>\n",
       "      <th>nameOrig</th>\n",
       "      <th>oldbalanceOrg</th>\n",
       "      <th>newbalanceOrig</th>\n",
       "      <th>nameDest</th>\n",
       "      <th>oldbalanceDest</th>\n",
       "      <th>newbalanceDest</th>\n",
       "      <th>isFlaggedFraud</th>\n",
       "    </tr>\n",
       "  </thead>\n",
       "  <tbody>\n",
       "    <tr>\n",
       "      <th>94</th>\n",
       "      <td>1.000000</td>\n",
       "      <td>4</td>\n",
       "      <td>501719.33875</td>\n",
       "      <td>1627280</td>\n",
       "      <td>0.0000</td>\n",
       "      <td>0.0</td>\n",
       "      <td>174831.0</td>\n",
       "      <td>3470595.10</td>\n",
       "      <td>19169204.93</td>\n",
       "      <td>0</td>\n",
       "    </tr>\n",
       "    <tr>\n",
       "      <th>96</th>\n",
       "      <td>1.000000</td>\n",
       "      <td>4</td>\n",
       "      <td>501719.33875</td>\n",
       "      <td>5838793</td>\n",
       "      <td>0.0000</td>\n",
       "      <td>0.0</td>\n",
       "      <td>174831.0</td>\n",
       "      <td>5195482.15</td>\n",
       "      <td>19169204.93</td>\n",
       "      <td>0</td>\n",
       "    </tr>\n",
       "    <tr>\n",
       "      <th>113</th>\n",
       "      <td>1.000000</td>\n",
       "      <td>1</td>\n",
       "      <td>85423.63000</td>\n",
       "      <td>4579084</td>\n",
       "      <td>0.0000</td>\n",
       "      <td>0.0</td>\n",
       "      <td>174831.0</td>\n",
       "      <td>5776776.41</td>\n",
       "      <td>19169204.93</td>\n",
       "      <td>0</td>\n",
       "    </tr>\n",
       "    <tr>\n",
       "      <th>156</th>\n",
       "      <td>1.000000</td>\n",
       "      <td>1</td>\n",
       "      <td>186447.51000</td>\n",
       "      <td>6277570</td>\n",
       "      <td>0.0000</td>\n",
       "      <td>0.0</td>\n",
       "      <td>174831.0</td>\n",
       "      <td>5862200.03</td>\n",
       "      <td>19169204.93</td>\n",
       "      <td>0</td>\n",
       "    </tr>\n",
       "    <tr>\n",
       "      <th>171</th>\n",
       "      <td>1.000000</td>\n",
       "      <td>1</td>\n",
       "      <td>44443.08000</td>\n",
       "      <td>3953385</td>\n",
       "      <td>0.0000</td>\n",
       "      <td>0.0</td>\n",
       "      <td>174831.0</td>\n",
       "      <td>6048647.54</td>\n",
       "      <td>19169204.93</td>\n",
       "      <td>0</td>\n",
       "    </tr>\n",
       "    <tr>\n",
       "      <th>...</th>\n",
       "      <td>...</td>\n",
       "      <td>...</td>\n",
       "      <td>...</td>\n",
       "      <td>...</td>\n",
       "      <td>...</td>\n",
       "      <td>...</td>\n",
       "      <td>...</td>\n",
       "      <td>...</td>\n",
       "      <td>...</td>\n",
       "      <td>...</td>\n",
       "    </tr>\n",
       "    <tr>\n",
       "      <th>6362553</th>\n",
       "      <td>670.393159</td>\n",
       "      <td>1</td>\n",
       "      <td>297846.16000</td>\n",
       "      <td>4327983</td>\n",
       "      <td>268287.9375</td>\n",
       "      <td>0.0</td>\n",
       "      <td>222555.0</td>\n",
       "      <td>11436080.11</td>\n",
       "      <td>11733926.27</td>\n",
       "      <td>0</td>\n",
       "    </tr>\n",
       "    <tr>\n",
       "      <th>6362555</th>\n",
       "      <td>670.393159</td>\n",
       "      <td>1</td>\n",
       "      <td>106584.32000</td>\n",
       "      <td>3567918</td>\n",
       "      <td>106584.3200</td>\n",
       "      <td>0.0</td>\n",
       "      <td>296202.0</td>\n",
       "      <td>5524872.71</td>\n",
       "      <td>5631457.03</td>\n",
       "      <td>0</td>\n",
       "    </tr>\n",
       "    <tr>\n",
       "      <th>6362569</th>\n",
       "      <td>670.393159</td>\n",
       "      <td>1</td>\n",
       "      <td>194521.28000</td>\n",
       "      <td>1832760</td>\n",
       "      <td>194521.2800</td>\n",
       "      <td>0.0</td>\n",
       "      <td>568151.0</td>\n",
       "      <td>7203373.74</td>\n",
       "      <td>7397895.02</td>\n",
       "      <td>0</td>\n",
       "    </tr>\n",
       "    <tr>\n",
       "      <th>6362575</th>\n",
       "      <td>670.393159</td>\n",
       "      <td>1</td>\n",
       "      <td>501719.33875</td>\n",
       "      <td>2379680</td>\n",
       "      <td>268287.9375</td>\n",
       "      <td>0.0</td>\n",
       "      <td>341766.0</td>\n",
       "      <td>2930014.23</td>\n",
       "      <td>4685662.04</td>\n",
       "      <td>0</td>\n",
       "    </tr>\n",
       "    <tr>\n",
       "      <th>6362619</th>\n",
       "      <td>670.393159</td>\n",
       "      <td>1</td>\n",
       "      <td>501719.33875</td>\n",
       "      <td>919229</td>\n",
       "      <td>268287.9375</td>\n",
       "      <td>0.0</td>\n",
       "      <td>534595.0</td>\n",
       "      <td>6510099.11</td>\n",
       "      <td>7360101.63</td>\n",
       "      <td>0</td>\n",
       "    </tr>\n",
       "  </tbody>\n",
       "</table>\n",
       "<p>786135 rows × 10 columns</p>\n",
       "</div>"
      ],
      "text/plain": [
       "               step  type        amount  nameOrig  oldbalanceOrg  \\\n",
       "94         1.000000     4  501719.33875   1627280         0.0000   \n",
       "96         1.000000     4  501719.33875   5838793         0.0000   \n",
       "113        1.000000     1   85423.63000   4579084         0.0000   \n",
       "156        1.000000     1  186447.51000   6277570         0.0000   \n",
       "171        1.000000     1   44443.08000   3953385         0.0000   \n",
       "...             ...   ...           ...       ...            ...   \n",
       "6362553  670.393159     1  297846.16000   4327983    268287.9375   \n",
       "6362555  670.393159     1  106584.32000   3567918    106584.3200   \n",
       "6362569  670.393159     1  194521.28000   1832760    194521.2800   \n",
       "6362575  670.393159     1  501719.33875   2379680    268287.9375   \n",
       "6362619  670.393159     1  501719.33875    919229    268287.9375   \n",
       "\n",
       "         newbalanceOrig  nameDest  oldbalanceDest  newbalanceDest  \\\n",
       "94                  0.0  174831.0      3470595.10     19169204.93   \n",
       "96                  0.0  174831.0      5195482.15     19169204.93   \n",
       "113                 0.0  174831.0      5776776.41     19169204.93   \n",
       "156                 0.0  174831.0      5862200.03     19169204.93   \n",
       "171                 0.0  174831.0      6048647.54     19169204.93   \n",
       "...                 ...       ...             ...             ...   \n",
       "6362553             0.0  222555.0     11436080.11     11733926.27   \n",
       "6362555             0.0  296202.0      5524872.71      5631457.03   \n",
       "6362569             0.0  568151.0      7203373.74      7397895.02   \n",
       "6362575             0.0  341766.0      2930014.23      4685662.04   \n",
       "6362619             0.0  534595.0      6510099.11      7360101.63   \n",
       "\n",
       "         isFlaggedFraud  \n",
       "94                    0  \n",
       "96                    0  \n",
       "113                   0  \n",
       "156                   0  \n",
       "171                   0  \n",
       "...                 ...  \n",
       "6362553               0  \n",
       "6362555               0  \n",
       "6362569               0  \n",
       "6362575               0  \n",
       "6362619               0  \n",
       "\n",
       "[786135 rows x 10 columns]"
      ]
     },
     "execution_count": 83,
     "metadata": {},
     "output_type": "execute_result"
    }
   ],
   "source": [
    "# Finding the outliers\n",
    "data[(data['oldbalanceDest'] > 2357591.76875) | (data['oldbalanceDest'] < -1414555.06125)]"
   ]
  },
  {
   "cell_type": "code",
   "execution_count": 84,
   "id": "bcac3aa9-fee7-4441-a03f-580e31971a39",
   "metadata": {},
   "outputs": [],
   "source": [
    "#Capping\n",
    "\n",
    "data['oldbalanceDest'] = np.where(\n",
    "    data['oldbalanceDest']>upper_limit,\n",
    "    upper_limit,\n",
    "    np.where(\n",
    "        data['oldbalanceDest']<lower_limit,\n",
    "        lower_limit,\n",
    "        data['oldbalanceDest']\n",
    "    )\n",
    ")"
   ]
  },
  {
   "cell_type": "raw",
   "id": "7914b57d-20b7-4712-a5b5-3461223ca089",
   "metadata": {},
   "source": [
    "Outliers removed from 'oldbalanceDest' col"
   ]
  },
  {
   "cell_type": "code",
   "execution_count": 85,
   "id": "43dfe8a6-e7aa-41e0-a438-996ead6235a5",
   "metadata": {},
   "outputs": [
    {
     "data": {
      "text/html": [
       "<div>\n",
       "<style scoped>\n",
       "    .dataframe tbody tr th:only-of-type {\n",
       "        vertical-align: middle;\n",
       "    }\n",
       "\n",
       "    .dataframe tbody tr th {\n",
       "        vertical-align: top;\n",
       "    }\n",
       "\n",
       "    .dataframe thead th {\n",
       "        text-align: right;\n",
       "    }\n",
       "</style>\n",
       "<table border=\"1\" class=\"dataframe\">\n",
       "  <thead>\n",
       "    <tr style=\"text-align: right;\">\n",
       "      <th></th>\n",
       "      <th>step</th>\n",
       "      <th>type</th>\n",
       "      <th>amount</th>\n",
       "      <th>nameOrig</th>\n",
       "      <th>oldbalanceOrg</th>\n",
       "      <th>newbalanceOrig</th>\n",
       "      <th>nameDest</th>\n",
       "      <th>oldbalanceDest</th>\n",
       "      <th>newbalanceDest</th>\n",
       "      <th>isFlaggedFraud</th>\n",
       "    </tr>\n",
       "  </thead>\n",
       "  <tbody>\n",
       "  </tbody>\n",
       "</table>\n",
       "</div>"
      ],
      "text/plain": [
       "Empty DataFrame\n",
       "Columns: [step, type, amount, nameOrig, oldbalanceOrg, newbalanceOrig, nameDest, oldbalanceDest, newbalanceDest, isFlaggedFraud]\n",
       "Index: []"
      ]
     },
     "execution_count": 85,
     "metadata": {},
     "output_type": "execute_result"
    }
   ],
   "source": [
    "data[(data['oldbalanceDest'] > 2357591.76875) | (data['oldbalanceDest'] < -1414555.06125)]"
   ]
  },
  {
   "cell_type": "code",
   "execution_count": 86,
   "id": "ab5816fe-0fd4-4a2a-8167-fd8ddc4b2584",
   "metadata": {},
   "outputs": [
    {
     "data": {
      "text/plain": [
       "<Axes: xlabel='isFlaggedFraud', ylabel='Density'>"
      ]
     },
     "execution_count": 86,
     "metadata": {},
     "output_type": "execute_result"
    },
    {
     "data": {
      "image/png": "[encoded data removed]",
      "text/plain": [
       "<Figure size 1000x500 with 2 Axes>"
      ]
     },
     "metadata": {},
     "output_type": "display_data"
    }
   ],
   "source": [
    "plt.figure(figsize=(10,5))\n",
    "\n",
    "plt.subplot(1,2,1)\n",
    "sns.distplot(df['newbalanceDest'])\n",
    "\n",
    "plt.subplot(1,2,2)\n",
    "sns.distplot(df['isFlaggedFraud'])\n"
   ]
  },
  {
   "cell_type": "code",
   "execution_count": 87,
   "id": "3ca1c400-d4e6-44ff-8a56-4af89e4fc5a1",
   "metadata": {},
   "outputs": [
    {
     "data": {
      "text/plain": [
       "<Axes: xlabel='newbalanceDest'>"
      ]
     },
     "execution_count": 87,
     "metadata": {},
     "output_type": "execute_result"
    },
    {
     "data": {
      "image/png": "[encoded data removed]",
      "text/plain": [
       "<Figure size 640x480 with 1 Axes>"
      ]
     },
     "metadata": {},
     "output_type": "display_data"
    }
   ],
   "source": [
    "sns.boxplot(x=df['newbalanceDest'])"
   ]
  },
  {
   "cell_type": "code",
   "execution_count": 88,
   "id": "94b10397-eccc-4df6-b318-cb986daf2c67",
   "metadata": {},
   "outputs": [],
   "source": [
    "# Finding the IQR\n",
    "percentile25 = df['newbalanceDest'].quantile(0.25)\n",
    "percentile75 = df['newbalanceDest'].quantile(0.75)"
   ]
  },
  {
   "cell_type": "code",
   "execution_count": 89,
   "id": "3af138f9-17bd-462b-bcc4-6faf6f379b1c",
   "metadata": {},
   "outputs": [],
   "source": [
    "iqr = percentile75 - percentile25"
   ]
  },
  {
   "cell_type": "code",
   "execution_count": 90,
   "id": "8d02af1b-d0fb-4fb1-ab43-0b932850c8b1",
   "metadata": {},
   "outputs": [
    {
     "data": {
      "text/plain": [
       "1111909.25"
      ]
     },
     "execution_count": 90,
     "metadata": {},
     "output_type": "execute_result"
    }
   ],
   "source": [
    "iqr"
   ]
  },
  {
   "cell_type": "code",
   "execution_count": 91,
   "id": "d6bc54fb-45b6-4863-84dc-7fe0c922c695",
   "metadata": {},
   "outputs": [],
   "source": [
    "upper_limit = percentile75 + 1.5 * iqr\n",
    "lower_limit = percentile25 - 1.5 * iqr"
   ]
  },
  {
   "cell_type": "code",
   "execution_count": 92,
   "id": "9e40f9ee-cf72-449f-ba6a-689bd8301c97",
   "metadata": {},
   "outputs": [
    {
     "name": "stdout",
     "output_type": "stream",
     "text": [
      "Upper limit 2779773.125\n",
      "Lower limit -1667863.875\n"
     ]
    }
   ],
   "source": [
    "print(\"Upper limit\",upper_limit)\n",
    "print(\"Lower limit\",lower_limit)"
   ]
  },
  {
   "cell_type": "code",
   "execution_count": 93,
   "id": "fca3a567-2ff9-4ccc-b988-7cc55b2a7063",
   "metadata": {},
   "outputs": [
    {
     "data": {
      "text/html": [
       "<div>\n",
       "<style scoped>\n",
       "    .dataframe tbody tr th:only-of-type {\n",
       "        vertical-align: middle;\n",
       "    }\n",
       "\n",
       "    .dataframe tbody tr th {\n",
       "        vertical-align: top;\n",
       "    }\n",
       "\n",
       "    .dataframe thead th {\n",
       "        text-align: right;\n",
       "    }\n",
       "</style>\n",
       "<table border=\"1\" class=\"dataframe\">\n",
       "  <thead>\n",
       "    <tr style=\"text-align: right;\">\n",
       "      <th></th>\n",
       "      <th>step</th>\n",
       "      <th>type</th>\n",
       "      <th>amount</th>\n",
       "      <th>nameOrig</th>\n",
       "      <th>oldbalanceOrg</th>\n",
       "      <th>newbalanceOrig</th>\n",
       "      <th>nameDest</th>\n",
       "      <th>oldbalanceDest</th>\n",
       "      <th>newbalanceDest</th>\n",
       "      <th>isFlaggedFraud</th>\n",
       "    </tr>\n",
       "  </thead>\n",
       "  <tbody>\n",
       "    <tr>\n",
       "      <th>48</th>\n",
       "      <td>1.000000</td>\n",
       "      <td>1</td>\n",
       "      <td>5346.89000</td>\n",
       "      <td>4749571</td>\n",
       "      <td>0.0000</td>\n",
       "      <td>0.0</td>\n",
       "      <td>349730.0</td>\n",
       "      <td>6.526370e+05</td>\n",
       "      <td>6453430.91</td>\n",
       "      <td>0</td>\n",
       "    </tr>\n",
       "    <tr>\n",
       "      <th>83</th>\n",
       "      <td>1.000000</td>\n",
       "      <td>4</td>\n",
       "      <td>125872.53000</td>\n",
       "      <td>1457906</td>\n",
       "      <td>0.0000</td>\n",
       "      <td>0.0</td>\n",
       "      <td>392423.0</td>\n",
       "      <td>3.485120e+05</td>\n",
       "      <td>3420103.09</td>\n",
       "      <td>0</td>\n",
       "    </tr>\n",
       "    <tr>\n",
       "      <th>84</th>\n",
       "      <td>1.000000</td>\n",
       "      <td>4</td>\n",
       "      <td>379856.23000</td>\n",
       "      <td>1477099</td>\n",
       "      <td>0.0000</td>\n",
       "      <td>0.0</td>\n",
       "      <td>174831.0</td>\n",
       "      <td>9.001800e+05</td>\n",
       "      <td>19169204.93</td>\n",
       "      <td>0</td>\n",
       "    </tr>\n",
       "    <tr>\n",
       "      <th>85</th>\n",
       "      <td>1.000000</td>\n",
       "      <td>4</td>\n",
       "      <td>501719.33875</td>\n",
       "      <td>6113295</td>\n",
       "      <td>0.0000</td>\n",
       "      <td>0.0</td>\n",
       "      <td>472721.0</td>\n",
       "      <td>2.903100e+04</td>\n",
       "      <td>5515763.34</td>\n",
       "      <td>0</td>\n",
       "    </tr>\n",
       "    <tr>\n",
       "      <th>88</th>\n",
       "      <td>1.000000</td>\n",
       "      <td>4</td>\n",
       "      <td>501719.33875</td>\n",
       "      <td>4421346</td>\n",
       "      <td>0.0000</td>\n",
       "      <td>0.0</td>\n",
       "      <td>174831.0</td>\n",
       "      <td>1.280036e+06</td>\n",
       "      <td>19169204.93</td>\n",
       "      <td>0</td>\n",
       "    </tr>\n",
       "    <tr>\n",
       "      <th>...</th>\n",
       "      <td>...</td>\n",
       "      <td>...</td>\n",
       "      <td>...</td>\n",
       "      <td>...</td>\n",
       "      <td>...</td>\n",
       "      <td>...</td>\n",
       "      <td>...</td>\n",
       "      <td>...</td>\n",
       "      <td>...</td>\n",
       "      <td>...</td>\n",
       "    </tr>\n",
       "    <tr>\n",
       "      <th>6362581</th>\n",
       "      <td>670.393159</td>\n",
       "      <td>1</td>\n",
       "      <td>501719.33875</td>\n",
       "      <td>5292744</td>\n",
       "      <td>268287.9375</td>\n",
       "      <td>0.0</td>\n",
       "      <td>256366.0</td>\n",
       "      <td>0.000000e+00</td>\n",
       "      <td>10000000.00</td>\n",
       "      <td>0</td>\n",
       "    </tr>\n",
       "    <tr>\n",
       "      <th>6362583</th>\n",
       "      <td>670.393159</td>\n",
       "      <td>1</td>\n",
       "      <td>501719.33875</td>\n",
       "      <td>2193920</td>\n",
       "      <td>268287.9375</td>\n",
       "      <td>0.0</td>\n",
       "      <td>74217.0</td>\n",
       "      <td>1.929130e+05</td>\n",
       "      <td>10192912.98</td>\n",
       "      <td>0</td>\n",
       "    </tr>\n",
       "    <tr>\n",
       "      <th>6362599</th>\n",
       "      <td>670.393159</td>\n",
       "      <td>1</td>\n",
       "      <td>501719.33875</td>\n",
       "      <td>3190079</td>\n",
       "      <td>268287.9375</td>\n",
       "      <td>0.0</td>\n",
       "      <td>464383.0</td>\n",
       "      <td>1.229762e+06</td>\n",
       "      <td>5238820.34</td>\n",
       "      <td>0</td>\n",
       "    </tr>\n",
       "    <tr>\n",
       "      <th>6362617</th>\n",
       "      <td>670.393159</td>\n",
       "      <td>1</td>\n",
       "      <td>501719.33875</td>\n",
       "      <td>533958</td>\n",
       "      <td>268287.9375</td>\n",
       "      <td>0.0</td>\n",
       "      <td>108224.0</td>\n",
       "      <td>6.848884e+04</td>\n",
       "      <td>6379898.11</td>\n",
       "      <td>0</td>\n",
       "    </tr>\n",
       "    <tr>\n",
       "      <th>6362619</th>\n",
       "      <td>670.393159</td>\n",
       "      <td>1</td>\n",
       "      <td>501719.33875</td>\n",
       "      <td>919229</td>\n",
       "      <td>268287.9375</td>\n",
       "      <td>0.0</td>\n",
       "      <td>534595.0</td>\n",
       "      <td>2.357592e+06</td>\n",
       "      <td>7360101.63</td>\n",
       "      <td>0</td>\n",
       "    </tr>\n",
       "  </tbody>\n",
       "</table>\n",
       "<p>738527 rows × 10 columns</p>\n",
       "</div>"
      ],
      "text/plain": [
       "               step  type        amount  nameOrig  oldbalanceOrg  \\\n",
       "48         1.000000     1    5346.89000   4749571         0.0000   \n",
       "83         1.000000     4  125872.53000   1457906         0.0000   \n",
       "84         1.000000     4  379856.23000   1477099         0.0000   \n",
       "85         1.000000     4  501719.33875   6113295         0.0000   \n",
       "88         1.000000     4  501719.33875   4421346         0.0000   \n",
       "...             ...   ...           ...       ...            ...   \n",
       "6362581  670.393159     1  501719.33875   5292744    268287.9375   \n",
       "6362583  670.393159     1  501719.33875   2193920    268287.9375   \n",
       "6362599  670.393159     1  501719.33875   3190079    268287.9375   \n",
       "6362617  670.393159     1  501719.33875    533958    268287.9375   \n",
       "6362619  670.393159     1  501719.33875    919229    268287.9375   \n",
       "\n",
       "         newbalanceOrig  nameDest  oldbalanceDest  newbalanceDest  \\\n",
       "48                  0.0  349730.0    6.526370e+05      6453430.91   \n",
       "83                  0.0  392423.0    3.485120e+05      3420103.09   \n",
       "84                  0.0  174831.0    9.001800e+05     19169204.93   \n",
       "85                  0.0  472721.0    2.903100e+04      5515763.34   \n",
       "88                  0.0  174831.0    1.280036e+06     19169204.93   \n",
       "...                 ...       ...             ...             ...   \n",
       "6362581             0.0  256366.0    0.000000e+00     10000000.00   \n",
       "6362583             0.0   74217.0    1.929130e+05     10192912.98   \n",
       "6362599             0.0  464383.0    1.229762e+06      5238820.34   \n",
       "6362617             0.0  108224.0    6.848884e+04      6379898.11   \n",
       "6362619             0.0  534595.0    2.357592e+06      7360101.63   \n",
       "\n",
       "         isFlaggedFraud  \n",
       "48                    0  \n",
       "83                    0  \n",
       "84                    0  \n",
       "85                    0  \n",
       "88                    0  \n",
       "...                 ...  \n",
       "6362581               0  \n",
       "6362583               0  \n",
       "6362599               0  \n",
       "6362617               0  \n",
       "6362619               0  \n",
       "\n",
       "[738527 rows x 10 columns]"
      ]
     },
     "execution_count": 93,
     "metadata": {},
     "output_type": "execute_result"
    }
   ],
   "source": [
    "# Finding the outliers\n",
    "data[(data['newbalanceDest'] > 2779773.125) | (data['newbalanceDest'] < -1667863.875)]"
   ]
  },
  {
   "cell_type": "code",
   "execution_count": 94,
   "id": "cf74ddbc-1076-4d41-8ed4-407083689927",
   "metadata": {},
   "outputs": [],
   "source": [
    "#Capping\n",
    "\n",
    "data['newbalanceDest'] = np.where(\n",
    "    data['newbalanceDest']>upper_limit,\n",
    "    upper_limit,\n",
    "    np.where(\n",
    "        data['newbalanceDest']<lower_limit,\n",
    "        lower_limit,\n",
    "        data['newbalanceDest']\n",
    "    )\n",
    ")"
   ]
  },
  {
   "cell_type": "code",
   "execution_count": 95,
   "id": "b9a04e1c-5003-4f32-b0e9-7357ff76f793",
   "metadata": {},
   "outputs": [
    {
     "data": {
      "text/html": [
       "<div>\n",
       "<style scoped>\n",
       "    .dataframe tbody tr th:only-of-type {\n",
       "        vertical-align: middle;\n",
       "    }\n",
       "\n",
       "    .dataframe tbody tr th {\n",
       "        vertical-align: top;\n",
       "    }\n",
       "\n",
       "    .dataframe thead th {\n",
       "        text-align: right;\n",
       "    }\n",
       "</style>\n",
       "<table border=\"1\" class=\"dataframe\">\n",
       "  <thead>\n",
       "    <tr style=\"text-align: right;\">\n",
       "      <th></th>\n",
       "      <th>step</th>\n",
       "      <th>type</th>\n",
       "      <th>amount</th>\n",
       "      <th>nameOrig</th>\n",
       "      <th>oldbalanceOrg</th>\n",
       "      <th>newbalanceOrig</th>\n",
       "      <th>nameDest</th>\n",
       "      <th>oldbalanceDest</th>\n",
       "      <th>newbalanceDest</th>\n",
       "      <th>isFlaggedFraud</th>\n",
       "    </tr>\n",
       "  </thead>\n",
       "  <tbody>\n",
       "  </tbody>\n",
       "</table>\n",
       "</div>"
      ],
      "text/plain": [
       "Empty DataFrame\n",
       "Columns: [step, type, amount, nameOrig, oldbalanceOrg, newbalanceOrig, nameDest, oldbalanceDest, newbalanceDest, isFlaggedFraud]\n",
       "Index: []"
      ]
     },
     "execution_count": 95,
     "metadata": {},
     "output_type": "execute_result"
    }
   ],
   "source": [
    "data[(data['newbalanceDest'] > 2779773.125) | (data['newbalanceDest'] < -1667863.875)]"
   ]
  },
  {
   "cell_type": "code",
   "execution_count": 96,
   "id": "eaf44bfa-3c11-47c2-8978-e5eaf9bca9b6",
   "metadata": {},
   "outputs": [
    {
     "data": {
      "text/plain": [
       "<Axes: xlabel='isFlaggedFraud'>"
      ]
     },
     "execution_count": 96,
     "metadata": {},
     "output_type": "execute_result"
    },
    {
     "data": {
      "image/png": "[encoded data removed]",
      "text/plain": [
       "<Figure size 640x480 with 1 Axes>"
      ]
     },
     "metadata": {},
     "output_type": "display_data"
    }
   ],
   "source": [
    "sns.boxplot(x=df['isFlaggedFraud'])"
   ]
  },
  {
   "cell_type": "code",
   "execution_count": 97,
   "id": "d277b5ee-6f3a-4d34-aebc-c6b1d00dd35b",
   "metadata": {},
   "outputs": [],
   "source": [
    "# Finding the IQR\n",
    "percentile25 = df['isFlaggedFraud'].quantile(0.25)\n",
    "percentile75 = df['isFlaggedFraud'].quantile(0.75)"
   ]
  },
  {
   "cell_type": "code",
   "execution_count": 98,
   "id": "871ab5fe-262a-4b96-84b1-50122b76b8f8",
   "metadata": {},
   "outputs": [],
   "source": [
    "iqr = percentile75 - percentile25"
   ]
  },
  {
   "cell_type": "code",
   "execution_count": 99,
   "id": "a7d7717d-6842-4902-8bf8-bcd90980e74a",
   "metadata": {},
   "outputs": [],
   "source": [
    "upper_limit = percentile75 + 1.5 * iqr\n",
    "lower_limit = percentile25 - 1.5 * iqr"
   ]
  },
  {
   "cell_type": "code",
   "execution_count": 100,
   "id": "b704dd9c-584c-4f68-b033-7add0b067df6",
   "metadata": {},
   "outputs": [
    {
     "name": "stdout",
     "output_type": "stream",
     "text": [
      "Upper limit 0.0\n",
      "Lower limit 0.0\n"
     ]
    }
   ],
   "source": [
    "print(\"Upper limit\",upper_limit)\n",
    "print(\"Lower limit\",lower_limit)"
   ]
  },
  {
   "cell_type": "code",
   "execution_count": 101,
   "id": "7af89bc2-11b9-4daf-a223-8e997f31a212",
   "metadata": {},
   "outputs": [
    {
     "data": {
      "text/html": [
       "<div>\n",
       "<style scoped>\n",
       "    .dataframe tbody tr th:only-of-type {\n",
       "        vertical-align: middle;\n",
       "    }\n",
       "\n",
       "    .dataframe tbody tr th {\n",
       "        vertical-align: top;\n",
       "    }\n",
       "\n",
       "    .dataframe thead th {\n",
       "        text-align: right;\n",
       "    }\n",
       "</style>\n",
       "<table border=\"1\" class=\"dataframe\">\n",
       "  <thead>\n",
       "    <tr style=\"text-align: right;\">\n",
       "      <th></th>\n",
       "      <th>step</th>\n",
       "      <th>type</th>\n",
       "      <th>amount</th>\n",
       "      <th>nameOrig</th>\n",
       "      <th>oldbalanceOrg</th>\n",
       "      <th>newbalanceOrig</th>\n",
       "      <th>nameDest</th>\n",
       "      <th>oldbalanceDest</th>\n",
       "      <th>newbalanceDest</th>\n",
       "      <th>isFlaggedFraud</th>\n",
       "    </tr>\n",
       "  </thead>\n",
       "  <tbody>\n",
       "    <tr>\n",
       "      <th>2736446</th>\n",
       "      <td>212.000000</td>\n",
       "      <td>4</td>\n",
       "      <td>501719.33875</td>\n",
       "      <td>5462026</td>\n",
       "      <td>268287.9375</td>\n",
       "      <td>360646.025</td>\n",
       "      <td>465112.0</td>\n",
       "      <td>0.0</td>\n",
       "      <td>0.0</td>\n",
       "      <td>1</td>\n",
       "    </tr>\n",
       "    <tr>\n",
       "      <th>3247297</th>\n",
       "      <td>250.000000</td>\n",
       "      <td>4</td>\n",
       "      <td>501719.33875</td>\n",
       "      <td>329539</td>\n",
       "      <td>268287.9375</td>\n",
       "      <td>360646.025</td>\n",
       "      <td>43638.0</td>\n",
       "      <td>0.0</td>\n",
       "      <td>0.0</td>\n",
       "      <td>1</td>\n",
       "    </tr>\n",
       "    <tr>\n",
       "      <th>3760288</th>\n",
       "      <td>279.000000</td>\n",
       "      <td>4</td>\n",
       "      <td>501719.33875</td>\n",
       "      <td>116746</td>\n",
       "      <td>268287.9375</td>\n",
       "      <td>360646.025</td>\n",
       "      <td>29788.0</td>\n",
       "      <td>0.0</td>\n",
       "      <td>0.0</td>\n",
       "      <td>1</td>\n",
       "    </tr>\n",
       "    <tr>\n",
       "      <th>5563713</th>\n",
       "      <td>387.000000</td>\n",
       "      <td>4</td>\n",
       "      <td>501719.33875</td>\n",
       "      <td>6052892</td>\n",
       "      <td>268287.9375</td>\n",
       "      <td>360646.025</td>\n",
       "      <td>540034.0</td>\n",
       "      <td>0.0</td>\n",
       "      <td>0.0</td>\n",
       "      <td>1</td>\n",
       "    </tr>\n",
       "    <tr>\n",
       "      <th>5996407</th>\n",
       "      <td>425.000000</td>\n",
       "      <td>4</td>\n",
       "      <td>501719.33875</td>\n",
       "      <td>5332564</td>\n",
       "      <td>268287.9375</td>\n",
       "      <td>360646.025</td>\n",
       "      <td>116289.0</td>\n",
       "      <td>0.0</td>\n",
       "      <td>0.0</td>\n",
       "      <td>1</td>\n",
       "    </tr>\n",
       "    <tr>\n",
       "      <th>5996409</th>\n",
       "      <td>425.000000</td>\n",
       "      <td>4</td>\n",
       "      <td>501719.33875</td>\n",
       "      <td>4552191</td>\n",
       "      <td>268287.9375</td>\n",
       "      <td>360646.025</td>\n",
       "      <td>32302.0</td>\n",
       "      <td>0.0</td>\n",
       "      <td>0.0</td>\n",
       "      <td>1</td>\n",
       "    </tr>\n",
       "    <tr>\n",
       "      <th>6168499</th>\n",
       "      <td>554.000000</td>\n",
       "      <td>4</td>\n",
       "      <td>501719.33875</td>\n",
       "      <td>3078566</td>\n",
       "      <td>268287.9375</td>\n",
       "      <td>360646.025</td>\n",
       "      <td>419584.0</td>\n",
       "      <td>0.0</td>\n",
       "      <td>0.0</td>\n",
       "      <td>1</td>\n",
       "    </tr>\n",
       "    <tr>\n",
       "      <th>6205439</th>\n",
       "      <td>586.000000</td>\n",
       "      <td>4</td>\n",
       "      <td>353874.22000</td>\n",
       "      <td>2248279</td>\n",
       "      <td>268287.9375</td>\n",
       "      <td>353874.220</td>\n",
       "      <td>227867.0</td>\n",
       "      <td>0.0</td>\n",
       "      <td>0.0</td>\n",
       "      <td>1</td>\n",
       "    </tr>\n",
       "    <tr>\n",
       "      <th>6266413</th>\n",
       "      <td>617.000000</td>\n",
       "      <td>4</td>\n",
       "      <td>501719.33875</td>\n",
       "      <td>5651751</td>\n",
       "      <td>268287.9375</td>\n",
       "      <td>360646.025</td>\n",
       "      <td>471714.0</td>\n",
       "      <td>0.0</td>\n",
       "      <td>0.0</td>\n",
       "      <td>1</td>\n",
       "    </tr>\n",
       "    <tr>\n",
       "      <th>6281482</th>\n",
       "      <td>646.000000</td>\n",
       "      <td>4</td>\n",
       "      <td>501719.33875</td>\n",
       "      <td>2958273</td>\n",
       "      <td>268287.9375</td>\n",
       "      <td>360646.025</td>\n",
       "      <td>238527.0</td>\n",
       "      <td>0.0</td>\n",
       "      <td>0.0</td>\n",
       "      <td>1</td>\n",
       "    </tr>\n",
       "    <tr>\n",
       "      <th>6281484</th>\n",
       "      <td>646.000000</td>\n",
       "      <td>4</td>\n",
       "      <td>399045.08000</td>\n",
       "      <td>5448044</td>\n",
       "      <td>268287.9375</td>\n",
       "      <td>360646.025</td>\n",
       "      <td>269078.0</td>\n",
       "      <td>0.0</td>\n",
       "      <td>0.0</td>\n",
       "      <td>1</td>\n",
       "    </tr>\n",
       "    <tr>\n",
       "      <th>6296014</th>\n",
       "      <td>670.393159</td>\n",
       "      <td>4</td>\n",
       "      <td>501719.33875</td>\n",
       "      <td>6081947</td>\n",
       "      <td>268287.9375</td>\n",
       "      <td>360646.025</td>\n",
       "      <td>24386.0</td>\n",
       "      <td>0.0</td>\n",
       "      <td>0.0</td>\n",
       "      <td>1</td>\n",
       "    </tr>\n",
       "    <tr>\n",
       "      <th>6351225</th>\n",
       "      <td>670.393159</td>\n",
       "      <td>4</td>\n",
       "      <td>501719.33875</td>\n",
       "      <td>2930980</td>\n",
       "      <td>268287.9375</td>\n",
       "      <td>360646.025</td>\n",
       "      <td>91208.0</td>\n",
       "      <td>0.0</td>\n",
       "      <td>0.0</td>\n",
       "      <td>1</td>\n",
       "    </tr>\n",
       "    <tr>\n",
       "      <th>6362460</th>\n",
       "      <td>670.393159</td>\n",
       "      <td>4</td>\n",
       "      <td>501719.33875</td>\n",
       "      <td>3746456</td>\n",
       "      <td>268287.9375</td>\n",
       "      <td>360646.025</td>\n",
       "      <td>117127.0</td>\n",
       "      <td>0.0</td>\n",
       "      <td>0.0</td>\n",
       "      <td>1</td>\n",
       "    </tr>\n",
       "    <tr>\n",
       "      <th>6362462</th>\n",
       "      <td>670.393159</td>\n",
       "      <td>4</td>\n",
       "      <td>501719.33875</td>\n",
       "      <td>2856635</td>\n",
       "      <td>268287.9375</td>\n",
       "      <td>360646.025</td>\n",
       "      <td>254848.0</td>\n",
       "      <td>0.0</td>\n",
       "      <td>0.0</td>\n",
       "      <td>1</td>\n",
       "    </tr>\n",
       "    <tr>\n",
       "      <th>6362584</th>\n",
       "      <td>670.393159</td>\n",
       "      <td>4</td>\n",
       "      <td>501719.33875</td>\n",
       "      <td>6327800</td>\n",
       "      <td>268287.9375</td>\n",
       "      <td>360646.025</td>\n",
       "      <td>108710.0</td>\n",
       "      <td>0.0</td>\n",
       "      <td>0.0</td>\n",
       "      <td>1</td>\n",
       "    </tr>\n",
       "  </tbody>\n",
       "</table>\n",
       "</div>"
      ],
      "text/plain": [
       "               step  type        amount  nameOrig  oldbalanceOrg  \\\n",
       "2736446  212.000000     4  501719.33875   5462026    268287.9375   \n",
       "3247297  250.000000     4  501719.33875    329539    268287.9375   \n",
       "3760288  279.000000     4  501719.33875    116746    268287.9375   \n",
       "5563713  387.000000     4  501719.33875   6052892    268287.9375   \n",
       "5996407  425.000000     4  501719.33875   5332564    268287.9375   \n",
       "5996409  425.000000     4  501719.33875   4552191    268287.9375   \n",
       "6168499  554.000000     4  501719.33875   3078566    268287.9375   \n",
       "6205439  586.000000     4  353874.22000   2248279    268287.9375   \n",
       "6266413  617.000000     4  501719.33875   5651751    268287.9375   \n",
       "6281482  646.000000     4  501719.33875   2958273    268287.9375   \n",
       "6281484  646.000000     4  399045.08000   5448044    268287.9375   \n",
       "6296014  670.393159     4  501719.33875   6081947    268287.9375   \n",
       "6351225  670.393159     4  501719.33875   2930980    268287.9375   \n",
       "6362460  670.393159     4  501719.33875   3746456    268287.9375   \n",
       "6362462  670.393159     4  501719.33875   2856635    268287.9375   \n",
       "6362584  670.393159     4  501719.33875   6327800    268287.9375   \n",
       "\n",
       "         newbalanceOrig  nameDest  oldbalanceDest  newbalanceDest  \\\n",
       "2736446      360646.025  465112.0             0.0             0.0   \n",
       "3247297      360646.025   43638.0             0.0             0.0   \n",
       "3760288      360646.025   29788.0             0.0             0.0   \n",
       "5563713      360646.025  540034.0             0.0             0.0   \n",
       "5996407      360646.025  116289.0             0.0             0.0   \n",
       "5996409      360646.025   32302.0             0.0             0.0   \n",
       "6168499      360646.025  419584.0             0.0             0.0   \n",
       "6205439      353874.220  227867.0             0.0             0.0   \n",
       "6266413      360646.025  471714.0             0.0             0.0   \n",
       "6281482      360646.025  238527.0             0.0             0.0   \n",
       "6281484      360646.025  269078.0             0.0             0.0   \n",
       "6296014      360646.025   24386.0             0.0             0.0   \n",
       "6351225      360646.025   91208.0             0.0             0.0   \n",
       "6362460      360646.025  117127.0             0.0             0.0   \n",
       "6362462      360646.025  254848.0             0.0             0.0   \n",
       "6362584      360646.025  108710.0             0.0             0.0   \n",
       "\n",
       "         isFlaggedFraud  \n",
       "2736446               1  \n",
       "3247297               1  \n",
       "3760288               1  \n",
       "5563713               1  \n",
       "5996407               1  \n",
       "5996409               1  \n",
       "6168499               1  \n",
       "6205439               1  \n",
       "6266413               1  \n",
       "6281482               1  \n",
       "6281484               1  \n",
       "6296014               1  \n",
       "6351225               1  \n",
       "6362460               1  \n",
       "6362462               1  \n",
       "6362584               1  "
      ]
     },
     "execution_count": 101,
     "metadata": {},
     "output_type": "execute_result"
    }
   ],
   "source": [
    "#Finding the outliers\n",
    "data[(data['isFlaggedFraud'] > 0) | (data['isFlaggedFraud'] < 0)]"
   ]
  },
  {
   "cell_type": "code",
   "execution_count": 102,
   "id": "fa0edd53-ddd9-4c9c-9a83-6b8594fb5698",
   "metadata": {},
   "outputs": [],
   "source": [
    "#Capping\n",
    "\n",
    "data['isFlaggedFraud'] = np.where(\n",
    "    data['isFlaggedFraud']>upper_limit,\n",
    "    upper_limit,\n",
    "    np.where(\n",
    "        data['isFlaggedFraud']<lower_limit,\n",
    "        lower_limit,\n",
    "        data['isFlaggedFraud']\n",
    "    )\n",
    ")"
   ]
  },
  {
   "cell_type": "markdown",
   "id": "c526e06f-8791-4283-88aa-05ba992913b3",
   "metadata": {},
   "source": [
    "Outliers removed from 'isFlaggedFraud' col"
   ]
  },
  {
   "cell_type": "code",
   "execution_count": 104,
   "id": "ef74bce7-80e5-46c2-8dc8-837c6d37adec",
   "metadata": {},
   "outputs": [
    {
     "data": {
      "text/html": [
       "<div>\n",
       "<style scoped>\n",
       "    .dataframe tbody tr th:only-of-type {\n",
       "        vertical-align: middle;\n",
       "    }\n",
       "\n",
       "    .dataframe tbody tr th {\n",
       "        vertical-align: top;\n",
       "    }\n",
       "\n",
       "    .dataframe thead th {\n",
       "        text-align: right;\n",
       "    }\n",
       "</style>\n",
       "<table border=\"1\" class=\"dataframe\">\n",
       "  <thead>\n",
       "    <tr style=\"text-align: right;\">\n",
       "      <th></th>\n",
       "      <th>step</th>\n",
       "      <th>type</th>\n",
       "      <th>amount</th>\n",
       "      <th>nameOrig</th>\n",
       "      <th>oldbalanceOrg</th>\n",
       "      <th>newbalanceOrig</th>\n",
       "      <th>nameDest</th>\n",
       "      <th>oldbalanceDest</th>\n",
       "      <th>newbalanceDest</th>\n",
       "      <th>isFlaggedFraud</th>\n",
       "    </tr>\n",
       "  </thead>\n",
       "  <tbody>\n",
       "  </tbody>\n",
       "</table>\n",
       "</div>"
      ],
      "text/plain": [
       "Empty DataFrame\n",
       "Columns: [step, type, amount, nameOrig, oldbalanceOrg, newbalanceOrig, nameDest, oldbalanceDest, newbalanceDest, isFlaggedFraud]\n",
       "Index: []"
      ]
     },
     "execution_count": 104,
     "metadata": {},
     "output_type": "execute_result"
    }
   ],
   "source": [
    "data[(data['isFlaggedFraud'] > 0) | (data['isFlaggedFraud'] < 0)]"
   ]
  },
  {
   "cell_type": "code",
   "execution_count": 105,
   "id": "5a801dbe-8a64-4ab1-8a33-66f9fff9114b",
   "metadata": {},
   "outputs": [
    {
     "data": {
      "text/html": [
       "<div>\n",
       "<style scoped>\n",
       "    .dataframe tbody tr th:only-of-type {\n",
       "        vertical-align: middle;\n",
       "    }\n",
       "\n",
       "    .dataframe tbody tr th {\n",
       "        vertical-align: top;\n",
       "    }\n",
       "\n",
       "    .dataframe thead th {\n",
       "        text-align: right;\n",
       "    }\n",
       "</style>\n",
       "<table border=\"1\" class=\"dataframe\">\n",
       "  <thead>\n",
       "    <tr style=\"text-align: right;\">\n",
       "      <th></th>\n",
       "      <th>step</th>\n",
       "      <th>type</th>\n",
       "      <th>amount</th>\n",
       "      <th>nameOrig</th>\n",
       "      <th>oldbalanceOrg</th>\n",
       "      <th>newbalanceOrig</th>\n",
       "      <th>nameDest</th>\n",
       "      <th>oldbalanceDest</th>\n",
       "      <th>newbalanceDest</th>\n",
       "      <th>isFlaggedFraud</th>\n",
       "    </tr>\n",
       "  </thead>\n",
       "  <tbody>\n",
       "    <tr>\n",
       "      <th>0</th>\n",
       "      <td>1.0</td>\n",
       "      <td>3</td>\n",
       "      <td>9839.64</td>\n",
       "      <td>757869</td>\n",
       "      <td>170136.0</td>\n",
       "      <td>160296.36</td>\n",
       "      <td>1662094.0</td>\n",
       "      <td>0.0</td>\n",
       "      <td>0.0</td>\n",
       "      <td>0.0</td>\n",
       "    </tr>\n",
       "    <tr>\n",
       "      <th>1</th>\n",
       "      <td>1.0</td>\n",
       "      <td>3</td>\n",
       "      <td>1864.28</td>\n",
       "      <td>2188998</td>\n",
       "      <td>21249.0</td>\n",
       "      <td>19384.72</td>\n",
       "      <td>1733924.0</td>\n",
       "      <td>0.0</td>\n",
       "      <td>0.0</td>\n",
       "      <td>0.0</td>\n",
       "    </tr>\n",
       "    <tr>\n",
       "      <th>2</th>\n",
       "      <td>1.0</td>\n",
       "      <td>4</td>\n",
       "      <td>181.00</td>\n",
       "      <td>1002156</td>\n",
       "      <td>181.0</td>\n",
       "      <td>0.00</td>\n",
       "      <td>439685.0</td>\n",
       "      <td>0.0</td>\n",
       "      <td>0.0</td>\n",
       "      <td>0.0</td>\n",
       "    </tr>\n",
       "    <tr>\n",
       "      <th>3</th>\n",
       "      <td>1.0</td>\n",
       "      <td>1</td>\n",
       "      <td>181.00</td>\n",
       "      <td>5828262</td>\n",
       "      <td>181.0</td>\n",
       "      <td>0.00</td>\n",
       "      <td>391696.0</td>\n",
       "      <td>21182.0</td>\n",
       "      <td>0.0</td>\n",
       "      <td>0.0</td>\n",
       "    </tr>\n",
       "    <tr>\n",
       "      <th>4</th>\n",
       "      <td>1.0</td>\n",
       "      <td>3</td>\n",
       "      <td>11668.14</td>\n",
       "      <td>3445981</td>\n",
       "      <td>41554.0</td>\n",
       "      <td>29885.86</td>\n",
       "      <td>828919.0</td>\n",
       "      <td>0.0</td>\n",
       "      <td>0.0</td>\n",
       "      <td>0.0</td>\n",
       "    </tr>\n",
       "  </tbody>\n",
       "</table>\n",
       "</div>"
      ],
      "text/plain": [
       "   step  type    amount  nameOrig  oldbalanceOrg  newbalanceOrig   nameDest  \\\n",
       "0   1.0     3   9839.64    757869       170136.0       160296.36  1662094.0   \n",
       "1   1.0     3   1864.28   2188998        21249.0        19384.72  1733924.0   \n",
       "2   1.0     4    181.00   1002156          181.0            0.00   439685.0   \n",
       "3   1.0     1    181.00   5828262          181.0            0.00   391696.0   \n",
       "4   1.0     3  11668.14   3445981        41554.0        29885.86   828919.0   \n",
       "\n",
       "   oldbalanceDest  newbalanceDest  isFlaggedFraud  \n",
       "0             0.0             0.0             0.0  \n",
       "1             0.0             0.0             0.0  \n",
       "2             0.0             0.0             0.0  \n",
       "3         21182.0             0.0             0.0  \n",
       "4             0.0             0.0             0.0  "
      ]
     },
     "execution_count": 105,
     "metadata": {},
     "output_type": "execute_result"
    }
   ],
   "source": [
    "data.head()"
   ]
  },
  {
   "cell_type": "code",
   "execution_count": 106,
   "id": "fc95c083-0e80-4ab1-98cc-3cddd14df72d",
   "metadata": {},
   "outputs": [],
   "source": [
    "from sklearn.preprocessing import StandardScaler\n",
    "scaler=StandardScaler()\n",
    "\n",
    "data=scaler.fit_transform(data)"
   ]
  },
  {
   "cell_type": "markdown",
   "id": "fc75c820-f688-4044-84ab-6629cbc7261b",
   "metadata": {},
   "source": [
    "## Train Test Split"
   ]
  },
  {
   "cell_type": "code",
   "execution_count": 108,
   "id": "55e65edc-893d-4c74-9ea8-74f38a355324",
   "metadata": {},
   "outputs": [],
   "source": [
    "from sklearn.model_selection import train_test_split"
   ]
  },
  {
   "cell_type": "code",
   "execution_count": 109,
   "id": "41ee57e9-7a7d-43ec-aa05-4eaa5a03021c",
   "metadata": {},
   "outputs": [],
   "source": [
    "train_X,test_X,train_Y,test_Y=train_test_split(data,label,test_size=0.25,random_state=7)"
   ]
  },
  {
   "cell_type": "markdown",
   "id": "a4c58815-a62f-4dee-addf-c09bf3676ed9",
   "metadata": {},
   "source": [
    "## ANN MODEL FOR PREDICTION"
   ]
  },
  {
   "cell_type": "code",
   "execution_count": 111,
   "id": "7967df78-9cf5-4c47-af07-efd5ed1246fa",
   "metadata": {},
   "outputs": [],
   "source": [
    "import tensorflow as tf\n",
    "from tensorflow import keras\n",
    "from keras.models import Sequential\n",
    "from keras.layers import Dense"
   ]
  },
  {
   "cell_type": "code",
   "execution_count": 112,
   "id": "994cb0b6-07a3-4916-886e-de2766b8975e",
   "metadata": {},
   "outputs": [],
   "source": [
    "model=Sequential()\n",
    "\n",
    "model.add(Dense(64,activation='relu',input_dim=10))\n",
    "model.add(Dense(32,activation='relu'))\n",
    "model.add(Dense(16,activation='relu'))\n",
    "model.add(Dense(1,activation='sigmoid'))\n"
   ]
  },
  {
   "cell_type": "code",
   "execution_count": 113,
   "id": "0063a8f3-94dc-419c-a520-4c36a7fcce21",
   "metadata": {},
   "outputs": [
    {
     "data": {
      "text/html": [
       "<pre style=\"white-space:pre;overflow-x:auto;line-height:normal;font-family:Menlo,'DejaVu Sans Mono',consolas,'Courier New',monospace\"><span style=\"font-weight: bold\">Model: \"sequential\"</span>\n",
       "</pre>\n"
      ],
      "text/plain": [
       "\u001b[1mModel: \"sequential\"\u001b[0m\n"
      ]
     },
     "metadata": {},
     "output_type": "display_data"
    },
    {
     "data": {
      "text/html": [
       "<pre style=\"white-space:pre;overflow-x:auto;line-height:normal;font-family:Menlo,'DejaVu Sans Mono',consolas,'Courier New',monospace\">┏━━━━━━━━━━━━━━━━━━━━━━━━━━━━━━━━━━━━━━┳━━━━━━━━━━━━━━━━━━━━━━━━━━━━━┳━━━━━━━━━━━━━━━━━┓\n",
       "┃<span style=\"font-weight: bold\"> Layer (type)                         </span>┃<span style=\"font-weight: bold\"> Output Shape                </span>┃<span style=\"font-weight: bold\">         Param # </span>┃\n",
       "┡━━━━━━━━━━━━━━━━━━━━━━━━━━━━━━━━━━━━━━╇━━━━━━━━━━━━━━━━━━━━━━━━━━━━━╇━━━━━━━━━━━━━━━━━┩\n",
       "│ dense (<span style=\"color: #0087ff; text-decoration-color: #0087ff\">Dense</span>)                        │ (<span style=\"color: #00d7ff; text-decoration-color: #00d7ff\">None</span>, <span style=\"color: #00af00; text-decoration-color: #00af00\">64</span>)                  │             <span style=\"color: #00af00; text-decoration-color: #00af00\">704</span> │\n",
       "├──────────────────────────────────────┼─────────────────────────────┼─────────────────┤\n",
       "│ dense_1 (<span style=\"color: #0087ff; text-decoration-color: #0087ff\">Dense</span>)                      │ (<span style=\"color: #00d7ff; text-decoration-color: #00d7ff\">None</span>, <span style=\"color: #00af00; text-decoration-color: #00af00\">32</span>)                  │           <span style=\"color: #00af00; text-decoration-color: #00af00\">2,080</span> │\n",
       "├──────────────────────────────────────┼─────────────────────────────┼─────────────────┤\n",
       "│ dense_2 (<span style=\"color: #0087ff; text-decoration-color: #0087ff\">Dense</span>)                      │ (<span style=\"color: #00d7ff; text-decoration-color: #00d7ff\">None</span>, <span style=\"color: #00af00; text-decoration-color: #00af00\">16</span>)                  │             <span style=\"color: #00af00; text-decoration-color: #00af00\">528</span> │\n",
       "├──────────────────────────────────────┼─────────────────────────────┼─────────────────┤\n",
       "│ dense_3 (<span style=\"color: #0087ff; text-decoration-color: #0087ff\">Dense</span>)                      │ (<span style=\"color: #00d7ff; text-decoration-color: #00d7ff\">None</span>, <span style=\"color: #00af00; text-decoration-color: #00af00\">1</span>)                   │              <span style=\"color: #00af00; text-decoration-color: #00af00\">17</span> │\n",
       "└──────────────────────────────────────┴─────────────────────────────┴─────────────────┘\n",
       "</pre>\n"
      ],
      "text/plain": [
       "┏━━━━━━━━━━━━━━━━━━━━━━━━━━━━━━━━━━━━━━┳━━━━━━━━━━━━━━━━━━━━━━━━━━━━━┳━━━━━━━━━━━━━━━━━┓\n",
       "┃\u001b[1m \u001b[0m\u001b[1mLayer (type)                        \u001b[0m\u001b[1m \u001b[0m┃\u001b[1m \u001b[0m\u001b[1mOutput Shape               \u001b[0m\u001b[1m \u001b[0m┃\u001b[1m \u001b[0m\u001b[1m        Param #\u001b[0m\u001b[1m \u001b[0m┃\n",
       "┡━━━━━━━━━━━━━━━━━━━━━━━━━━━━━━━━━━━━━━╇━━━━━━━━━━━━━━━━━━━━━━━━━━━━━╇━━━━━━━━━━━━━━━━━┩\n",
       "│ dense (\u001b[38;5;33mDense\u001b[0m)                        │ (\u001b[38;5;45mNone\u001b[0m, \u001b[38;5;34m64\u001b[0m)                  │             \u001b[38;5;34m704\u001b[0m │\n",
       "├──────────────────────────────────────┼─────────────────────────────┼─────────────────┤\n",
       "│ dense_1 (\u001b[38;5;33mDense\u001b[0m)                      │ (\u001b[38;5;45mNone\u001b[0m, \u001b[38;5;34m32\u001b[0m)                  │           \u001b[38;5;34m2,080\u001b[0m │\n",
       "├──────────────────────────────────────┼─────────────────────────────┼─────────────────┤\n",
       "│ dense_2 (\u001b[38;5;33mDense\u001b[0m)                      │ (\u001b[38;5;45mNone\u001b[0m, \u001b[38;5;34m16\u001b[0m)                  │             \u001b[38;5;34m528\u001b[0m │\n",
       "├──────────────────────────────────────┼─────────────────────────────┼─────────────────┤\n",
       "│ dense_3 (\u001b[38;5;33mDense\u001b[0m)                      │ (\u001b[38;5;45mNone\u001b[0m, \u001b[38;5;34m1\u001b[0m)                   │              \u001b[38;5;34m17\u001b[0m │\n",
       "└──────────────────────────────────────┴─────────────────────────────┴─────────────────┘\n"
      ]
     },
     "metadata": {},
     "output_type": "display_data"
    },
    {
     "data": {
      "text/html": [
       "<pre style=\"white-space:pre;overflow-x:auto;line-height:normal;font-family:Menlo,'DejaVu Sans Mono',consolas,'Courier New',monospace\"><span style=\"font-weight: bold\"> Total params: </span><span style=\"color: #00af00; text-decoration-color: #00af00\">3,329</span> (13.00 KB)\n",
       "</pre>\n"
      ],
      "text/plain": [
       "\u001b[1m Total params: \u001b[0m\u001b[38;5;34m3,329\u001b[0m (13.00 KB)\n"
      ]
     },
     "metadata": {},
     "output_type": "display_data"
    },
    {
     "data": {
      "text/html": [
       "<pre style=\"white-space:pre;overflow-x:auto;line-height:normal;font-family:Menlo,'DejaVu Sans Mono',consolas,'Courier New',monospace\"><span style=\"font-weight: bold\"> Trainable params: </span><span style=\"color: #00af00; text-decoration-color: #00af00\">3,329</span> (13.00 KB)\n",
       "</pre>\n"
      ],
      "text/plain": [
       "\u001b[1m Trainable params: \u001b[0m\u001b[38;5;34m3,329\u001b[0m (13.00 KB)\n"
      ]
     },
     "metadata": {},
     "output_type": "display_data"
    },
    {
     "data": {
      "text/html": [
       "<pre style=\"white-space:pre;overflow-x:auto;line-height:normal;font-family:Menlo,'DejaVu Sans Mono',consolas,'Courier New',monospace\"><span style=\"font-weight: bold\"> Non-trainable params: </span><span style=\"color: #00af00; text-decoration-color: #00af00\">0</span> (0.00 B)\n",
       "</pre>\n"
      ],
      "text/plain": [
       "\u001b[1m Non-trainable params: \u001b[0m\u001b[38;5;34m0\u001b[0m (0.00 B)\n"
      ]
     },
     "metadata": {},
     "output_type": "display_data"
    }
   ],
   "source": [
    "model.summary()"
   ]
  },
  {
   "cell_type": "code",
   "execution_count": 114,
   "id": "f7c7fd85-e7b3-4da9-a09c-0c5cd207df5f",
   "metadata": {},
   "outputs": [],
   "source": [
    "model.compile(optimizer='Adam',loss='binary_crossentropy',metrics=['accuracy'])"
   ]
  },
  {
   "cell_type": "code",
   "execution_count": 115,
   "id": "d8d98719-2b50-484e-9b95-9f69156bc797",
   "metadata": {
    "scrolled": true
   },
   "outputs": [
    {
     "name": "stdout",
     "output_type": "stream",
     "text": [
      "Epoch 1/10\n",
      "\u001b[1m149124/149124\u001b[0m \u001b[32m━━━━━━━━━━━━━━━━━━━━\u001b[0m\u001b[37m\u001b[0m \u001b[1m158s\u001b[0m 1ms/step - accuracy: 0.9991 - loss: 0.0046 - val_accuracy: 0.9995 - val_loss: 0.0024\n",
      "Epoch 2/10\n",
      "\u001b[1m149124/149124\u001b[0m \u001b[32m━━━━━━━━━━━━━━━━━━━━\u001b[0m\u001b[37m\u001b[0m \u001b[1m149s\u001b[0m 999us/step - accuracy: 0.9994 - loss: 0.0025 - val_accuracy: 0.9995 - val_loss: 0.0026\n",
      "Epoch 3/10\n",
      "\u001b[1m149124/149124\u001b[0m \u001b[32m━━━━━━━━━━━━━━━━━━━━\u001b[0m\u001b[37m\u001b[0m \u001b[1m161s\u001b[0m 1ms/step - accuracy: 0.9994 - loss: 0.0023 - val_accuracy: 0.9995 - val_loss: 0.0023\n",
      "Epoch 4/10\n",
      "\u001b[1m149124/149124\u001b[0m \u001b[32m━━━━━━━━━━━━━━━━━━━━\u001b[0m\u001b[37m\u001b[0m \u001b[1m148s\u001b[0m 991us/step - accuracy: 0.9994 - loss: 0.0022 - val_accuracy: 0.9995 - val_loss: 0.0020\n",
      "Epoch 5/10\n",
      "\u001b[1m149124/149124\u001b[0m \u001b[32m━━━━━━━━━━━━━━━━━━━━\u001b[0m\u001b[37m\u001b[0m \u001b[1m153s\u001b[0m 1ms/step - accuracy: 0.9994 - loss: 0.0022 - val_accuracy: 0.9995 - val_loss: 0.0021\n",
      "Epoch 6/10\n",
      "\u001b[1m149124/149124\u001b[0m \u001b[32m━━━━━━━━━━━━━━━━━━━━\u001b[0m\u001b[37m\u001b[0m \u001b[1m148s\u001b[0m 989us/step - accuracy: 0.9994 - loss: 0.0023 - val_accuracy: 0.9993 - val_loss: 0.0026\n",
      "Epoch 7/10\n",
      "\u001b[1m149124/149124\u001b[0m \u001b[32m━━━━━━━━━━━━━━━━━━━━\u001b[0m\u001b[37m\u001b[0m \u001b[1m151s\u001b[0m 1ms/step - accuracy: 0.9995 - loss: 0.0023 - val_accuracy: 0.9995 - val_loss: 0.0021\n",
      "Epoch 8/10\n",
      "\u001b[1m149124/149124\u001b[0m \u001b[32m━━━━━━━━━━━━━━━━━━━━\u001b[0m\u001b[37m\u001b[0m \u001b[1m150s\u001b[0m 1ms/step - accuracy: 0.9995 - loss: 0.0022 - val_accuracy: 0.9995 - val_loss: 0.0020\n",
      "Epoch 9/10\n",
      "\u001b[1m149124/149124\u001b[0m \u001b[32m━━━━━━━━━━━━━━━━━━━━\u001b[0m\u001b[37m\u001b[0m \u001b[1m156s\u001b[0m 1ms/step - accuracy: 0.9995 - loss: 0.0024 - val_accuracy: 0.9995 - val_loss: 0.0019\n",
      "Epoch 10/10\n",
      "\u001b[1m149124/149124\u001b[0m \u001b[32m━━━━━━━━━━━━━━━━━━━━\u001b[0m\u001b[37m\u001b[0m \u001b[1m167s\u001b[0m 1ms/step - accuracy: 0.9994 - loss: 0.0022 - val_accuracy: 0.9995 - val_loss: 0.0021\n"
     ]
    }
   ],
   "source": [
    "history=model.fit(train_X,train_Y,batch_size=32,epochs=10,validation_data=(test_X,test_Y))"
   ]
  },
  {
   "cell_type": "markdown",
   "id": "2f64e20e-ea05-4709-82f1-c72c035485f3",
   "metadata": {},
   "source": [
    "## Graphical Accuracy & Loss Evaluation"
   ]
  },
  {
   "cell_type": "code",
   "execution_count": 117,
   "id": "61b4ee0c-2927-45a9-baa0-4f00450a82e9",
   "metadata": {},
   "outputs": [
    {
     "data": {
      "text/plain": [
       "[]"
      ]
     },
     "execution_count": 117,
     "metadata": {},
     "output_type": "execute_result"
    },
    {
     "data": {
      "image/png": "[encoded data removed]",
      "text/plain": [
       "<Figure size 640x480 with 1 Axes>"
      ]
     },
     "metadata": {},
     "output_type": "display_data"
    }
   ],
   "source": [
    "plt.plot(history.history['accuracy'],color='red',label='train')\n",
    "plt.plot(history.history['val_accuracy'],color='blue',label='validation')\n",
    "plt.legend()\n",
    "plt.plot()"
   ]
  },
  {
   "cell_type": "code",
   "execution_count": 118,
   "id": "b71e8484-6a8d-4352-863d-802f88dd70eb",
   "metadata": {},
   "outputs": [
    {
     "data": {
      "text/plain": [
       "[]"
      ]
     },
     "execution_count": 118,
     "metadata": {},
     "output_type": "execute_result"
    },
    {
     "data": {
      "image/png": "[encoded data removed]",
      "text/plain": [
       "<Figure size 640x480 with 1 Axes>"
      ]
     },
     "metadata": {},
     "output_type": "display_data"
    }
   ],
   "source": [
    "plt.plot(history.history['loss'],color='red',label='train')\n",
    "plt.plot(history.history['val_loss'],color='blue',label='validation')\n",
    "plt.legend()\n",
    "plt.plot()"
   ]
  },
  {
   "cell_type": "markdown",
   "id": "77a84042-0726-4023-a3ea-126c7b867231",
   "metadata": {},
   "source": [
    "## Performance Evaluation"
   ]
  },
  {
   "cell_type": "code",
   "execution_count": 120,
   "id": "e4d8cfd6-c774-49a8-a522-2d2d23b0e283",
   "metadata": {},
   "outputs": [
    {
     "name": "stdout",
     "output_type": "stream",
     "text": [
      "\u001b[1m49708/49708\u001b[0m \u001b[32m━━━━━━━━━━━━━━━━━━━━\u001b[0m\u001b[37m\u001b[0m \u001b[1m30s\u001b[0m 605us/step - accuracy: 0.9995 - loss: 0.0021\n"
     ]
    },
    {
     "data": {
      "text/plain": [
       "[0.00212068110704422, 0.9994568228721619]"
      ]
     },
     "execution_count": 120,
     "metadata": {},
     "output_type": "execute_result"
    }
   ],
   "source": [
    "model.evaluate(test_X,test_Y)"
   ]
  },
  {
   "cell_type": "code",
   "execution_count": 232,
   "id": "01729142-dbba-4c70-817e-59176d3712bb",
   "metadata": {},
   "outputs": [
    {
     "name": "stdout",
     "output_type": "stream",
     "text": [
      "\u001b[1m49708/49708\u001b[0m \u001b[32m━━━━━━━━━━━━━━━━━━━━\u001b[0m\u001b[37m\u001b[0m \u001b[1m31s\u001b[0m 619us/step\n"
     ]
    }
   ],
   "source": [
    "predictions=model.predict(test_X)\n",
    "predictions = (predictions > 0.5).astype(int)  # Threshold at 0.5 to convert probabilities to binary"
   ]
  },
  {
   "cell_type": "markdown",
   "id": "30576a94-4600-47d5-9a81-345f12c5982e",
   "metadata": {},
   "source": [
    "##  Evaluation Metrics"
   ]
  },
  {
   "cell_type": "code",
   "execution_count": 233,
   "id": "00f993f8-01bb-47a8-bae2-af02e3c8164e",
   "metadata": {},
   "outputs": [],
   "source": [
    "from sklearn.metrics import classification_report, precision_score, recall_score, f1_score"
   ]
  },
  {
   "cell_type": "code",
   "execution_count": 244,
   "id": "55e508a5-c9ef-4136-aebb-3fe964d79ec8",
   "metadata": {},
   "outputs": [
    {
     "name": "stdout",
     "output_type": "stream",
     "text": [
      "Precision of the model is: 0.8168456755228943\n",
      "Recall of the model is: 0.7279596977329975\n",
      "F1-Score of the model is: 0.7698454981353223\n"
     ]
    }
   ],
   "source": [
    "precision = precision_score(test_Y, predictions)\n",
    "recall = recall_score(test_Y, predictions)\n",
    "f1 = f1_score(test_Y, predictions)\n",
    "\n",
    "print(f\"Precision of the model is: {precision}\")\n",
    "print(f\"Recall of the model is: {recall}\")\n",
    "print(f\"F1-Score of the model is: {f1}\")"
   ]
  },
  {
   "cell_type": "markdown",
   "id": "63f74d1e-abb8-4950-82f7-cb073f7b6902",
   "metadata": {},
   "source": [
    "## Description Of Fraud Detection Model\n",
    "1. Dataset Preparation:\n",
    "The dataset used for fraud detection is large and consists of 6,362,620 rows and 10 columns. The target variable indicates whether a transaction is fraudulent or not. Several preprocessing steps were applied to the data, including:\n",
    "\n",
    "Feature selection: Selecting relevant features that may be indicative of fraudulent activity.\n",
    "Normalization: Scaling the features to ensure they are all on a similar scale, which is important for models like neural networks.\n",
    "\n",
    "2. Model Architecture:\n",
    "The model is an Artificial Neural Network (ANN), designed with multiple dense layers. It uses TensorFlow/Keras to build the architecture. The key points of the architecture include:\n",
    "\n",
    "Dense layers to capture complex patterns in the data.\n",
    "A sigmoid activation function in the final layer, making it suitable for binary classification (fraud or non-fraud).\n",
    "The ANN design ensures that the model can learn non-linear relationships between the features.\n",
    "\n",
    "3. Training the Model:\n",
    "Training is performed on the large dataset, allowing the model to distinguish between fraudulent and non-fraudulent transactions. The key components of the training process include:\n",
    "\n",
    "Binary cross-entropy loss: This is a standard loss function for binary classification problems.\n",
    "Adam optimizer: This adaptive optimizer is used to adjust the model weights based on the gradient during backpropagation.\n",
    "The training process is evaluated based on accuracy and validation accuracy, ensuring that the model generalizes well to unseen data.\n",
    "\n",
    "4. Performance Evaluation:\n",
    "The model achieves strong results on the test set:\n",
    "\n",
    "Accuracy: 99.95%\n",
    "Loss: 0.0021 These values indicate that the model performs well in detecting fraudulent transactions. Predictions are generated on the test data, allowing for further analysis of model performance.\n",
    "\n",
    "5. Evaluation Metrics:\n",
    "Accuracy: Measures the percentage of correct predictions.\n",
    "Precision: Measures the proportion of correctly predicted frauds out of all predicted frauds, indicating how accurate the model's fraud predictions are.\n",
    "F1-score: It is the harmonic mean of precision and recall, providing a balanced measure that accounts for both false positives and false negatives.\n",
    "Validation loss: Helps track overfitting and underfitting. Plots of training and validation metrics over time show the convergence of the model and allow for identification of potential overfitting.\n",
    "\n",
    "7. Predictions:\n",
    "The model makes predictions on the test data, which are thresholded at a value of 0.5 to classify transactions as either fraudulent or non-fraudulent. These predictions are then compared to the true labels to assess the model’s performance.\n",
    "\n",
    "8. Model Performance Insights:\n",
    "With an accuracy of around 99.95%, the model is highly effective in classifying transactions. However, due to the imbalanced nature of fraud detection (few frauds vs. many non-fraudulent transactions), additional metrics like precision, recall, and F1-score should be used to better evaluate the handling of:\n",
    "\n",
    "False positives: Non-fraudulent transactions classified as fraud.\n",
    "False negatives: Fraudulent transactions classified as non-fraudulent. Adding these metrics would provide a more comprehensive understanding of the model’s strengths and weaknesses."
   ]
  },
  {
   "cell_type": "markdown",
   "id": "f734be6b-3588-44d9-bb0c-ca321b7c111d",
   "metadata": {},
   "source": [
    "## How did you select variables to be included in the model?\n",
    "In fraud detection, variable selection is key. Variables are often selected based on domain knowledge, statistical analysis, and feature engineering techniques. Commonly used variables in fraud detection models include:\n",
    "\n",
    "Transaction amount\n",
    "Frequency of transactions\n",
    "Time of transaction \n",
    "Location (if the transaction occurred from a new or unusual location)\n",
    "Device/browser used for the transaction\n",
    "Historical behavior patterns\n",
    "Correlation analysis, feature importance metrics (from models like Random Forest), and automated methods like Recursive Feature Elimination (RFE) are also employed."
   ]
  },
  {
   "cell_type": "markdown",
   "id": "dedf1d4d-f3a3-4b29-a7b8-4135b9b717f3",
   "metadata": {},
   "source": [
    "##  Demonstrate the performance of the model by using best set of tools.\n",
    "Accuracy: Measures the overall correctness of the model.\n",
    "\n",
    "Precision: Measures how many of the predicted frauds are actually fraudulent.\n",
    "\n",
    "Recall: Measures how many actual frauds were correctly predicted.\n",
    "\n",
    "F1-Score: Balances precision and recall for imbalanced datasets like fraud detection."
   ]
  },
  {
   "cell_type": "markdown",
   "id": "9c03fe00-5442-4455-9f54-64d37853cf04",
   "metadata": {},
   "source": [
    "## What are the key factors that predict fraudulent customer?\n",
    "Key factors that predict fraudulent customer behavior typically include:\n",
    "\n",
    "1.Transaction Amount: Extremely high or unusually low transaction amounts may signal fraud.\n",
    "\n",
    "2.Transaction Frequency: A sudden spike in the number of transactions or an abnormal rate of transactions can be indicative of fraud.\n",
    "\n",
    "3.Location: Transactions made from unusual or geographically distant locations compared to the customer’s usual location can be suspicious.\n",
    "\n",
    "4.Time of Transaction: Transactions at odd times (e.g., late at night or outside business hours) can indicate fraud.\n",
    "\n",
    "5.Device Information: Transactions made from new or unknown devices compared to the customer’s usual pattern.\n",
    "\n",
    "6.Payment Method: Use of uncommon payment methods, multiple credit cards, or frequent switching between cards may suggest fraudulent activity.\n",
    "\n",
    "7.Account Age: Newer accounts may be more prone to fraud, especially if they exhibit suspicious behavior soon after creation.\n",
    "\n",
    "8.Transaction Type: Certain types of transactions, such as cash withdrawals or large transfers, might be more closely associated with fraud.\n",
    "\n",
    "9.IP Address & Device Fingerprinting: Multiple transactions from different IPs or devices within a short period may indicate fraud.\n",
    "\n",
    "10.Past Fraud History: Customers or accounts with a history of fraudulent behavior are more likely to engage in fraud again."
   ]
  },
  {
   "cell_type": "markdown",
   "id": "ea41ebd0-1a3f-45c0-bda8-2762c13f495f",
   "metadata": {},
   "source": [
    "## Do these factors make sense?\n",
    "Yes, these factors make sense because they are based on observable behavioral patterns that differ between legitimate users and fraudsters. Fraudsters often test systems with smaller transactions before moving to larger frauds, use multiple devices, or perform transactions at unusual hours. These anomalies can be detected through data analysis.\n",
    "However, it's also important to avoid excessive reliance on a single factor, as legitimate customers might occasionally exhibit behaviors that resemble fraudulent activity"
   ]
  },
  {
   "cell_type": "markdown",
   "id": "38e07725-2ed8-44c9-8f2e-0efaf2dc92e4",
   "metadata": {},
   "source": [
    "## What kind of prevention should be adopted while company update its infrastructure?\n",
    "Real-time monitoring should be implemented to catch suspicious transactions as they occur.\n",
    "Encryption for sensitive customer data and secure protocols (such as HTTPS) should be enforced.\n",
    "Multi-factor authentication (MFA) adds an extra layer of security for logins and transactions.\n",
    "Machine learning pipelines should be maintained and updated frequently with new fraud patterns and emerging threats.\n",
    "Regular audits of the fraud detection system ensure that updates haven’t introduced vulnerabilities."
   ]
  },
  {
   "cell_type": "markdown",
   "id": "b943eced-34e7-46e0-94d4-932646f93b18",
   "metadata": {},
   "source": [
    "## Assuming these actions have been implemented, how would you determine if they work?\n",
    "To determine if fraud prevention actions are effective, you can monitor key metrics over time:\n",
    "\n",
    "Reduction in fraud rates: Track the percentage of fraudulent transactions over time.\n",
    "False positive rate: Ensure that legitimate transactions aren’t incorrectly flagged as fraud.\n",
    "Customer complaints: Fewer customer complaints about blocked transactions might indicate that fraud detection is well-tuned.\n",
    "Model performance metrics: Regularly check model precision, recall, and AUC-ROC to ensure the model is still accurately predicting fraud.\n",
    "Cost savings: A decrease in losses due to fraud would indicate that prevention mechanisms are working."
   ]
  },
  {
   "cell_type": "code",
   "execution_count": null,
   "id": "0899fa84-87b9-44b3-9cc1-cf9f3708ccad",
   "metadata": {},
   "outputs": [],
   "source": []
  }
 ],
 "metadata": {
  "kernelspec": {
   "display_name": "Python 3 (ipykernel)",
   "language": "python",
   "name": "python3"
  },
  "language_info": {
   "codemirror_mode": {
    "name": "ipython",
    "version": 3
   },
   "file_extension": ".py",
   "mimetype": "text/x-python",
   "name": "python",
   "nbconvert_exporter": "python",
   "pygments_lexer": "ipython3",
   "version": "3.12.4"
  }
 },
 "nbformat": 4,
 "nbformat_minor": 5
}
